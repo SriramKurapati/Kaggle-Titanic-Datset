{
  "nbformat": 4,
  "nbformat_minor": 0,
  "metadata": {
    "colab": {
      "provenance": [],
      "collapsed_sections": [],
      "include_colab_link": true
    },
    "kernelspec": {
      "display_name": "Python 3",
      "language": "python",
      "name": "python3"
    },
    "language_info": {
      "codemirror_mode": {
        "name": "ipython",
        "version": 3
      },
      "file_extension": ".py",
      "mimetype": "text/x-python",
      "name": "python",
      "nbconvert_exporter": "python",
      "pygments_lexer": "ipython3",
      "version": "3.8.5"
    }
  },
  "cells": [
    {
      "cell_type": "markdown",
      "metadata": {
        "id": "view-in-github",
        "colab_type": "text"
      },
      "source": [
        "<a href=\"https://colab.research.google.com/github/SriramKurapati/Kaggle-Titanic-Datset/blob/main/Titanic%20Datset%20Remodelling.ipynb\" target=\"_parent\"><img src=\"https://colab.research.google.com/assets/colab-badge.svg\" alt=\"Open In Colab\"/></a>"
      ]
    },
    {
      "cell_type": "code",
      "metadata": {
        "id": "4ppd0aFD8ar0"
      },
      "source": [
        "import numpy as np;\n",
        "import pandas as pd;\n",
        "import matplotlib.pyplot as plt;\n",
        "from sklearn.preprocessing import LabelEncoder;\n",
        "from sklearn import preprocessing,tree\n",
        "import seaborn as sns;\n",
        "from sklearn.linear_model import LogisticRegression\n",
        "from sklearn.tree import DecisionTreeClassifier\n",
        "from sklearn.feature_selection import RFE\n",
        "from sklearn.ensemble import ExtraTreesClassifier\n",
        "from sklearn.feature_selection import SelectKBest,  f_classif\n",
        "from sklearn.ensemble import RandomForestClassifier\n",
        "from sklearn.model_selection import cross_val_score\n",
        "import graphviz"
      ],
      "execution_count": null,
      "outputs": []
    },
    {
      "cell_type": "code",
      "metadata": {
        "id": "6hr_C8iB8ar5"
      },
      "source": [
        "%matplotlib inline"
      ],
      "execution_count": null,
      "outputs": []
    },
    {
      "cell_type": "code",
      "metadata": {
        "id": "2hJLESZV8ar6"
      },
      "source": [
        "training_set = pd.read_csv('train.csv')\n",
        "test_set = pd.read_csv('test.csv')"
      ],
      "execution_count": null,
      "outputs": []
    },
    {
      "cell_type": "code",
      "metadata": {
        "id": "c1v73TlL8asA"
      },
      "source": [
        "training_set = training_set.drop(['Ticket'], axis=1)\n",
        "test_set = test_set.drop(['Ticket'], axis=1)"
      ],
      "execution_count": null,
      "outputs": []
    },
    {
      "cell_type": "code",
      "metadata": {
        "id": "-diPA1TM8asB"
      },
      "source": [
        "training_set = training_set.drop(['Cabin'], axis=1)\n",
        "test_set = test_set.drop(['Cabin'], axis=1)"
      ],
      "execution_count": null,
      "outputs": []
    },
    {
      "cell_type": "code",
      "metadata": {
        "id": "BxI_VzK28asB"
      },
      "source": [
        "combine = [training_set, test_set]"
      ],
      "execution_count": null,
      "outputs": []
    },
    {
      "cell_type": "code",
      "metadata": {
        "id": "jON38ARm8asB"
      },
      "source": [
        "lb = LabelEncoder();"
      ],
      "execution_count": null,
      "outputs": []
    },
    {
      "cell_type": "code",
      "metadata": {
        "id": "8Poibv7h8asB",
        "colab": {
          "base_uri": "https://localhost:8080/",
          "height": 195
        },
        "outputId": "81f1a330-fe9e-411d-9d1a-786ef087a003"
      },
      "source": [
        "training_set.head()"
      ],
      "execution_count": null,
      "outputs": [
        {
          "output_type": "execute_result",
          "data": {
            "text/html": [
              "<div>\n",
              "<style scoped>\n",
              "    .dataframe tbody tr th:only-of-type {\n",
              "        vertical-align: middle;\n",
              "    }\n",
              "\n",
              "    .dataframe tbody tr th {\n",
              "        vertical-align: top;\n",
              "    }\n",
              "\n",
              "    .dataframe thead th {\n",
              "        text-align: right;\n",
              "    }\n",
              "</style>\n",
              "<table border=\"1\" class=\"dataframe\">\n",
              "  <thead>\n",
              "    <tr style=\"text-align: right;\">\n",
              "      <th></th>\n",
              "      <th>PassengerId</th>\n",
              "      <th>Survived</th>\n",
              "      <th>Pclass</th>\n",
              "      <th>Name</th>\n",
              "      <th>Sex</th>\n",
              "      <th>Age</th>\n",
              "      <th>SibSp</th>\n",
              "      <th>Parch</th>\n",
              "      <th>Fare</th>\n",
              "      <th>Embarked</th>\n",
              "    </tr>\n",
              "  </thead>\n",
              "  <tbody>\n",
              "    <tr>\n",
              "      <th>0</th>\n",
              "      <td>1</td>\n",
              "      <td>0</td>\n",
              "      <td>3</td>\n",
              "      <td>Braund, Mr. Owen Harris</td>\n",
              "      <td>male</td>\n",
              "      <td>22.0</td>\n",
              "      <td>1</td>\n",
              "      <td>0</td>\n",
              "      <td>7.2500</td>\n",
              "      <td>S</td>\n",
              "    </tr>\n",
              "    <tr>\n",
              "      <th>1</th>\n",
              "      <td>2</td>\n",
              "      <td>1</td>\n",
              "      <td>1</td>\n",
              "      <td>Cumings, Mrs. John Bradley (Florence Briggs Th...</td>\n",
              "      <td>female</td>\n",
              "      <td>38.0</td>\n",
              "      <td>1</td>\n",
              "      <td>0</td>\n",
              "      <td>71.2833</td>\n",
              "      <td>C</td>\n",
              "    </tr>\n",
              "    <tr>\n",
              "      <th>2</th>\n",
              "      <td>3</td>\n",
              "      <td>1</td>\n",
              "      <td>3</td>\n",
              "      <td>Heikkinen, Miss. Laina</td>\n",
              "      <td>female</td>\n",
              "      <td>26.0</td>\n",
              "      <td>0</td>\n",
              "      <td>0</td>\n",
              "      <td>7.9250</td>\n",
              "      <td>S</td>\n",
              "    </tr>\n",
              "    <tr>\n",
              "      <th>3</th>\n",
              "      <td>4</td>\n",
              "      <td>1</td>\n",
              "      <td>1</td>\n",
              "      <td>Futrelle, Mrs. Jacques Heath (Lily May Peel)</td>\n",
              "      <td>female</td>\n",
              "      <td>35.0</td>\n",
              "      <td>1</td>\n",
              "      <td>0</td>\n",
              "      <td>53.1000</td>\n",
              "      <td>S</td>\n",
              "    </tr>\n",
              "    <tr>\n",
              "      <th>4</th>\n",
              "      <td>5</td>\n",
              "      <td>0</td>\n",
              "      <td>3</td>\n",
              "      <td>Allen, Mr. William Henry</td>\n",
              "      <td>male</td>\n",
              "      <td>35.0</td>\n",
              "      <td>0</td>\n",
              "      <td>0</td>\n",
              "      <td>8.0500</td>\n",
              "      <td>S</td>\n",
              "    </tr>\n",
              "  </tbody>\n",
              "</table>\n",
              "</div>"
            ],
            "text/plain": [
              "   PassengerId  Survived  Pclass  ... Parch     Fare  Embarked\n",
              "0            1         0       3  ...     0   7.2500         S\n",
              "1            2         1       1  ...     0  71.2833         C\n",
              "2            3         1       3  ...     0   7.9250         S\n",
              "3            4         1       1  ...     0  53.1000         S\n",
              "4            5         0       3  ...     0   8.0500         S\n",
              "\n",
              "[5 rows x 10 columns]"
            ]
          },
          "metadata": {
            "tags": []
          },
          "execution_count": 8
        }
      ]
    },
    {
      "cell_type": "code",
      "metadata": {
        "id": "0zWSmwmg8asC"
      },
      "source": [
        "for dataset in combine:\n",
        "    dataset['Sex'] = lb.fit_transform(dataset['Sex'])"
      ],
      "execution_count": null,
      "outputs": []
    },
    {
      "cell_type": "code",
      "metadata": {
        "id": "GgcLrTBH8asC",
        "colab": {
          "base_uri": "https://localhost:8080/",
          "height": 195
        },
        "outputId": "7ccb9367-c22b-4cca-ba06-ed51e0994247"
      },
      "source": [
        "test_set.head()"
      ],
      "execution_count": null,
      "outputs": [
        {
          "output_type": "execute_result",
          "data": {
            "text/html": [
              "<div>\n",
              "<style scoped>\n",
              "    .dataframe tbody tr th:only-of-type {\n",
              "        vertical-align: middle;\n",
              "    }\n",
              "\n",
              "    .dataframe tbody tr th {\n",
              "        vertical-align: top;\n",
              "    }\n",
              "\n",
              "    .dataframe thead th {\n",
              "        text-align: right;\n",
              "    }\n",
              "</style>\n",
              "<table border=\"1\" class=\"dataframe\">\n",
              "  <thead>\n",
              "    <tr style=\"text-align: right;\">\n",
              "      <th></th>\n",
              "      <th>PassengerId</th>\n",
              "      <th>Pclass</th>\n",
              "      <th>Name</th>\n",
              "      <th>Sex</th>\n",
              "      <th>Age</th>\n",
              "      <th>SibSp</th>\n",
              "      <th>Parch</th>\n",
              "      <th>Fare</th>\n",
              "      <th>Embarked</th>\n",
              "    </tr>\n",
              "  </thead>\n",
              "  <tbody>\n",
              "    <tr>\n",
              "      <th>0</th>\n",
              "      <td>892</td>\n",
              "      <td>3</td>\n",
              "      <td>Kelly, Mr. James</td>\n",
              "      <td>1</td>\n",
              "      <td>34.5</td>\n",
              "      <td>0</td>\n",
              "      <td>0</td>\n",
              "      <td>7.8292</td>\n",
              "      <td>Q</td>\n",
              "    </tr>\n",
              "    <tr>\n",
              "      <th>1</th>\n",
              "      <td>893</td>\n",
              "      <td>3</td>\n",
              "      <td>Wilkes, Mrs. James (Ellen Needs)</td>\n",
              "      <td>0</td>\n",
              "      <td>47.0</td>\n",
              "      <td>1</td>\n",
              "      <td>0</td>\n",
              "      <td>7.0000</td>\n",
              "      <td>S</td>\n",
              "    </tr>\n",
              "    <tr>\n",
              "      <th>2</th>\n",
              "      <td>894</td>\n",
              "      <td>2</td>\n",
              "      <td>Myles, Mr. Thomas Francis</td>\n",
              "      <td>1</td>\n",
              "      <td>62.0</td>\n",
              "      <td>0</td>\n",
              "      <td>0</td>\n",
              "      <td>9.6875</td>\n",
              "      <td>Q</td>\n",
              "    </tr>\n",
              "    <tr>\n",
              "      <th>3</th>\n",
              "      <td>895</td>\n",
              "      <td>3</td>\n",
              "      <td>Wirz, Mr. Albert</td>\n",
              "      <td>1</td>\n",
              "      <td>27.0</td>\n",
              "      <td>0</td>\n",
              "      <td>0</td>\n",
              "      <td>8.6625</td>\n",
              "      <td>S</td>\n",
              "    </tr>\n",
              "    <tr>\n",
              "      <th>4</th>\n",
              "      <td>896</td>\n",
              "      <td>3</td>\n",
              "      <td>Hirvonen, Mrs. Alexander (Helga E Lindqvist)</td>\n",
              "      <td>0</td>\n",
              "      <td>22.0</td>\n",
              "      <td>1</td>\n",
              "      <td>1</td>\n",
              "      <td>12.2875</td>\n",
              "      <td>S</td>\n",
              "    </tr>\n",
              "  </tbody>\n",
              "</table>\n",
              "</div>"
            ],
            "text/plain": [
              "   PassengerId  Pclass  ...     Fare  Embarked\n",
              "0          892       3  ...   7.8292         Q\n",
              "1          893       3  ...   7.0000         S\n",
              "2          894       2  ...   9.6875         Q\n",
              "3          895       3  ...   8.6625         S\n",
              "4          896       3  ...  12.2875         S\n",
              "\n",
              "[5 rows x 9 columns]"
            ]
          },
          "metadata": {
            "tags": []
          },
          "execution_count": 10
        }
      ]
    },
    {
      "cell_type": "code",
      "metadata": {
        "id": "qZ7Ko5e08asC"
      },
      "source": [
        "mean = training_set['Age'].mean()\n",
        "std = training_set['Age'].std()\n",
        "\n",
        "def fill_missing_val(column_val):\n",
        "    if np.isnan(column_val) == True: \n",
        "        column_val = np.random.randint(std, mean, 1)[0]\n",
        "    else:\n",
        "         column_val = column_val\n",
        "    return column_val\n",
        "\n",
        "combine[0]['Age'] = training_set['Age'].apply(fill_missing_val) \n",
        "combine[1]['Age'] = test_set['Age'].apply(fill_missing_val) \n"
      ],
      "execution_count": null,
      "outputs": []
    },
    {
      "cell_type": "code",
      "metadata": {
        "id": "A784bSvf8asD"
      },
      "source": [
        "for column in training_set.columns:\n",
        "    training_set['Embarked'].fillna(training_set['Embarked'].mode()[0], inplace=True)"
      ],
      "execution_count": null,
      "outputs": []
    },
    {
      "cell_type": "code",
      "metadata": {
        "id": "T2P22ToJ8asE"
      },
      "source": [
        "for column in test_set.columns:\n",
        "    test_set['Fare'].fillna(test_set['Fare'].mode()[0], inplace=True)"
      ],
      "execution_count": null,
      "outputs": []
    },
    {
      "cell_type": "code",
      "metadata": {
        "id": "hlpIi8_98asF"
      },
      "source": [
        "def conv_fare(x):\n",
        "    if x > -(0.001) and x <= 7.91:\n",
        "        return 0\n",
        "    elif x > 7.91 and x <= 14.4542:\n",
        "        return 1\n",
        "    elif x > 14.4542 and x <= 31.0:\n",
        "        return 2\n",
        "    elif x > 31.0 and x <= 512.3292:\n",
        "        return 3\n",
        "    \n",
        "combine[0]['Fare'] = training_set.Fare.apply(conv_fare)\n",
        "combine[1]['Fare'] = test_set.Fare.apply(conv_fare)"
      ],
      "execution_count": null,
      "outputs": []
    },
    {
      "cell_type": "code",
      "metadata": {
        "id": "irFdO5Oc8asF",
        "colab": {
          "base_uri": "https://localhost:8080/",
          "height": 195
        },
        "outputId": "e5b4bace-2c47-4fe3-f51c-6e096aa7038b"
      },
      "source": [
        "training_set.head()"
      ],
      "execution_count": null,
      "outputs": [
        {
          "output_type": "execute_result",
          "data": {
            "text/html": [
              "<div>\n",
              "<style scoped>\n",
              "    .dataframe tbody tr th:only-of-type {\n",
              "        vertical-align: middle;\n",
              "    }\n",
              "\n",
              "    .dataframe tbody tr th {\n",
              "        vertical-align: top;\n",
              "    }\n",
              "\n",
              "    .dataframe thead th {\n",
              "        text-align: right;\n",
              "    }\n",
              "</style>\n",
              "<table border=\"1\" class=\"dataframe\">\n",
              "  <thead>\n",
              "    <tr style=\"text-align: right;\">\n",
              "      <th></th>\n",
              "      <th>PassengerId</th>\n",
              "      <th>Survived</th>\n",
              "      <th>Pclass</th>\n",
              "      <th>Name</th>\n",
              "      <th>Sex</th>\n",
              "      <th>Age</th>\n",
              "      <th>SibSp</th>\n",
              "      <th>Parch</th>\n",
              "      <th>Fare</th>\n",
              "      <th>Embarked</th>\n",
              "    </tr>\n",
              "  </thead>\n",
              "  <tbody>\n",
              "    <tr>\n",
              "      <th>0</th>\n",
              "      <td>1</td>\n",
              "      <td>0</td>\n",
              "      <td>3</td>\n",
              "      <td>Braund, Mr. Owen Harris</td>\n",
              "      <td>1</td>\n",
              "      <td>22.0</td>\n",
              "      <td>1</td>\n",
              "      <td>0</td>\n",
              "      <td>0</td>\n",
              "      <td>S</td>\n",
              "    </tr>\n",
              "    <tr>\n",
              "      <th>1</th>\n",
              "      <td>2</td>\n",
              "      <td>1</td>\n",
              "      <td>1</td>\n",
              "      <td>Cumings, Mrs. John Bradley (Florence Briggs Th...</td>\n",
              "      <td>0</td>\n",
              "      <td>38.0</td>\n",
              "      <td>1</td>\n",
              "      <td>0</td>\n",
              "      <td>3</td>\n",
              "      <td>C</td>\n",
              "    </tr>\n",
              "    <tr>\n",
              "      <th>2</th>\n",
              "      <td>3</td>\n",
              "      <td>1</td>\n",
              "      <td>3</td>\n",
              "      <td>Heikkinen, Miss. Laina</td>\n",
              "      <td>0</td>\n",
              "      <td>26.0</td>\n",
              "      <td>0</td>\n",
              "      <td>0</td>\n",
              "      <td>1</td>\n",
              "      <td>S</td>\n",
              "    </tr>\n",
              "    <tr>\n",
              "      <th>3</th>\n",
              "      <td>4</td>\n",
              "      <td>1</td>\n",
              "      <td>1</td>\n",
              "      <td>Futrelle, Mrs. Jacques Heath (Lily May Peel)</td>\n",
              "      <td>0</td>\n",
              "      <td>35.0</td>\n",
              "      <td>1</td>\n",
              "      <td>0</td>\n",
              "      <td>3</td>\n",
              "      <td>S</td>\n",
              "    </tr>\n",
              "    <tr>\n",
              "      <th>4</th>\n",
              "      <td>5</td>\n",
              "      <td>0</td>\n",
              "      <td>3</td>\n",
              "      <td>Allen, Mr. William Henry</td>\n",
              "      <td>1</td>\n",
              "      <td>35.0</td>\n",
              "      <td>0</td>\n",
              "      <td>0</td>\n",
              "      <td>1</td>\n",
              "      <td>S</td>\n",
              "    </tr>\n",
              "  </tbody>\n",
              "</table>\n",
              "</div>"
            ],
            "text/plain": [
              "   PassengerId  Survived  Pclass  ... Parch  Fare  Embarked\n",
              "0            1         0       3  ...     0     0         S\n",
              "1            2         1       1  ...     0     3         C\n",
              "2            3         1       3  ...     0     1         S\n",
              "3            4         1       1  ...     0     3         S\n",
              "4            5         0       3  ...     0     1         S\n",
              "\n",
              "[5 rows x 10 columns]"
            ]
          },
          "metadata": {
            "tags": []
          },
          "execution_count": 15
        }
      ]
    },
    {
      "cell_type": "code",
      "metadata": {
        "id": "cy5zzTR-8asF",
        "colab": {
          "base_uri": "https://localhost:8080/",
          "height": 166
        },
        "outputId": "fedb4793-9036-42c3-f014-04d7233f8ef0"
      },
      "source": [
        "training_set[['Fare', 'Survived']].groupby(['Fare'], as_index=False).mean().sort_values(by='Fare', ascending=True)"
      ],
      "execution_count": null,
      "outputs": [
        {
          "output_type": "execute_result",
          "data": {
            "text/html": [
              "<div>\n",
              "<style scoped>\n",
              "    .dataframe tbody tr th:only-of-type {\n",
              "        vertical-align: middle;\n",
              "    }\n",
              "\n",
              "    .dataframe tbody tr th {\n",
              "        vertical-align: top;\n",
              "    }\n",
              "\n",
              "    .dataframe thead th {\n",
              "        text-align: right;\n",
              "    }\n",
              "</style>\n",
              "<table border=\"1\" class=\"dataframe\">\n",
              "  <thead>\n",
              "    <tr style=\"text-align: right;\">\n",
              "      <th></th>\n",
              "      <th>Fare</th>\n",
              "      <th>Survived</th>\n",
              "    </tr>\n",
              "  </thead>\n",
              "  <tbody>\n",
              "    <tr>\n",
              "      <th>0</th>\n",
              "      <td>0</td>\n",
              "      <td>0.197309</td>\n",
              "    </tr>\n",
              "    <tr>\n",
              "      <th>1</th>\n",
              "      <td>1</td>\n",
              "      <td>0.303571</td>\n",
              "    </tr>\n",
              "    <tr>\n",
              "      <th>2</th>\n",
              "      <td>2</td>\n",
              "      <td>0.454955</td>\n",
              "    </tr>\n",
              "    <tr>\n",
              "      <th>3</th>\n",
              "      <td>3</td>\n",
              "      <td>0.581081</td>\n",
              "    </tr>\n",
              "  </tbody>\n",
              "</table>\n",
              "</div>"
            ],
            "text/plain": [
              "   Fare  Survived\n",
              "0     0  0.197309\n",
              "1     1  0.303571\n",
              "2     2  0.454955\n",
              "3     3  0.581081"
            ]
          },
          "metadata": {
            "tags": []
          },
          "execution_count": 16
        }
      ]
    },
    {
      "cell_type": "code",
      "metadata": {
        "id": "eV4-Lnik8asG"
      },
      "source": [
        "for dataset in combine:\n",
        "    dataset['Title'] = dataset.Name.str.extract(' ([A-Za-z]+)\\.', expand=False)"
      ],
      "execution_count": null,
      "outputs": []
    },
    {
      "cell_type": "code",
      "metadata": {
        "id": "iu6PUTn68asG",
        "colab": {
          "base_uri": "https://localhost:8080/",
          "height": 580
        },
        "outputId": "f346dd5f-99eb-4e74-cb18-357ae7d6f4fa"
      },
      "source": [
        "pd.crosstab(training_set['Title'], training_set['Sex'])"
      ],
      "execution_count": null,
      "outputs": [
        {
          "output_type": "execute_result",
          "data": {
            "text/html": [
              "<div>\n",
              "<style scoped>\n",
              "    .dataframe tbody tr th:only-of-type {\n",
              "        vertical-align: middle;\n",
              "    }\n",
              "\n",
              "    .dataframe tbody tr th {\n",
              "        vertical-align: top;\n",
              "    }\n",
              "\n",
              "    .dataframe thead th {\n",
              "        text-align: right;\n",
              "    }\n",
              "</style>\n",
              "<table border=\"1\" class=\"dataframe\">\n",
              "  <thead>\n",
              "    <tr style=\"text-align: right;\">\n",
              "      <th>Sex</th>\n",
              "      <th>0</th>\n",
              "      <th>1</th>\n",
              "    </tr>\n",
              "    <tr>\n",
              "      <th>Title</th>\n",
              "      <th></th>\n",
              "      <th></th>\n",
              "    </tr>\n",
              "  </thead>\n",
              "  <tbody>\n",
              "    <tr>\n",
              "      <th>Capt</th>\n",
              "      <td>0</td>\n",
              "      <td>1</td>\n",
              "    </tr>\n",
              "    <tr>\n",
              "      <th>Col</th>\n",
              "      <td>0</td>\n",
              "      <td>2</td>\n",
              "    </tr>\n",
              "    <tr>\n",
              "      <th>Countess</th>\n",
              "      <td>1</td>\n",
              "      <td>0</td>\n",
              "    </tr>\n",
              "    <tr>\n",
              "      <th>Don</th>\n",
              "      <td>0</td>\n",
              "      <td>1</td>\n",
              "    </tr>\n",
              "    <tr>\n",
              "      <th>Dr</th>\n",
              "      <td>1</td>\n",
              "      <td>6</td>\n",
              "    </tr>\n",
              "    <tr>\n",
              "      <th>Jonkheer</th>\n",
              "      <td>0</td>\n",
              "      <td>1</td>\n",
              "    </tr>\n",
              "    <tr>\n",
              "      <th>Lady</th>\n",
              "      <td>1</td>\n",
              "      <td>0</td>\n",
              "    </tr>\n",
              "    <tr>\n",
              "      <th>Major</th>\n",
              "      <td>0</td>\n",
              "      <td>2</td>\n",
              "    </tr>\n",
              "    <tr>\n",
              "      <th>Master</th>\n",
              "      <td>0</td>\n",
              "      <td>40</td>\n",
              "    </tr>\n",
              "    <tr>\n",
              "      <th>Miss</th>\n",
              "      <td>182</td>\n",
              "      <td>0</td>\n",
              "    </tr>\n",
              "    <tr>\n",
              "      <th>Mlle</th>\n",
              "      <td>2</td>\n",
              "      <td>0</td>\n",
              "    </tr>\n",
              "    <tr>\n",
              "      <th>Mme</th>\n",
              "      <td>1</td>\n",
              "      <td>0</td>\n",
              "    </tr>\n",
              "    <tr>\n",
              "      <th>Mr</th>\n",
              "      <td>0</td>\n",
              "      <td>517</td>\n",
              "    </tr>\n",
              "    <tr>\n",
              "      <th>Mrs</th>\n",
              "      <td>125</td>\n",
              "      <td>0</td>\n",
              "    </tr>\n",
              "    <tr>\n",
              "      <th>Ms</th>\n",
              "      <td>1</td>\n",
              "      <td>0</td>\n",
              "    </tr>\n",
              "    <tr>\n",
              "      <th>Rev</th>\n",
              "      <td>0</td>\n",
              "      <td>6</td>\n",
              "    </tr>\n",
              "    <tr>\n",
              "      <th>Sir</th>\n",
              "      <td>0</td>\n",
              "      <td>1</td>\n",
              "    </tr>\n",
              "  </tbody>\n",
              "</table>\n",
              "</div>"
            ],
            "text/plain": [
              "Sex         0    1\n",
              "Title             \n",
              "Capt        0    1\n",
              "Col         0    2\n",
              "Countess    1    0\n",
              "Don         0    1\n",
              "Dr          1    6\n",
              "Jonkheer    0    1\n",
              "Lady        1    0\n",
              "Major       0    2\n",
              "Master      0   40\n",
              "Miss      182    0\n",
              "Mlle        2    0\n",
              "Mme         1    0\n",
              "Mr          0  517\n",
              "Mrs       125    0\n",
              "Ms          1    0\n",
              "Rev         0    6\n",
              "Sir         0    1"
            ]
          },
          "metadata": {
            "tags": []
          },
          "execution_count": 18
        }
      ]
    },
    {
      "cell_type": "code",
      "metadata": {
        "id": "9ONQlHzj8asG",
        "colab": {
          "base_uri": "https://localhost:8080/",
          "height": 195
        },
        "outputId": "13f640d8-c671-4bcc-c355-3cf65b73c376"
      },
      "source": [
        "for dataset in combine:\n",
        "    dataset['Title'] = dataset['Title'].replace(['Lady', 'Countess','Capt', 'Col','Don', 'Dr', 'Major', 'Rev', 'Sir', 'Jonkheer', 'Dona'], 'Rare')\n",
        "    dataset['Title'] = dataset['Title'].replace('Mlle', 'Miss')\n",
        "    dataset['Title'] = dataset['Title'].replace('Ms', 'Miss')\n",
        "    dataset['Title'] = dataset['Title'].replace('Mme', 'Mrs')\n",
        "training_set[['Title', 'Survived']].groupby(['Title'], as_index=False).mean()"
      ],
      "execution_count": null,
      "outputs": [
        {
          "output_type": "execute_result",
          "data": {
            "text/html": [
              "<div>\n",
              "<style scoped>\n",
              "    .dataframe tbody tr th:only-of-type {\n",
              "        vertical-align: middle;\n",
              "    }\n",
              "\n",
              "    .dataframe tbody tr th {\n",
              "        vertical-align: top;\n",
              "    }\n",
              "\n",
              "    .dataframe thead th {\n",
              "        text-align: right;\n",
              "    }\n",
              "</style>\n",
              "<table border=\"1\" class=\"dataframe\">\n",
              "  <thead>\n",
              "    <tr style=\"text-align: right;\">\n",
              "      <th></th>\n",
              "      <th>Title</th>\n",
              "      <th>Survived</th>\n",
              "    </tr>\n",
              "  </thead>\n",
              "  <tbody>\n",
              "    <tr>\n",
              "      <th>0</th>\n",
              "      <td>Master</td>\n",
              "      <td>0.575000</td>\n",
              "    </tr>\n",
              "    <tr>\n",
              "      <th>1</th>\n",
              "      <td>Miss</td>\n",
              "      <td>0.702703</td>\n",
              "    </tr>\n",
              "    <tr>\n",
              "      <th>2</th>\n",
              "      <td>Mr</td>\n",
              "      <td>0.156673</td>\n",
              "    </tr>\n",
              "    <tr>\n",
              "      <th>3</th>\n",
              "      <td>Mrs</td>\n",
              "      <td>0.793651</td>\n",
              "    </tr>\n",
              "    <tr>\n",
              "      <th>4</th>\n",
              "      <td>Rare</td>\n",
              "      <td>0.347826</td>\n",
              "    </tr>\n",
              "  </tbody>\n",
              "</table>\n",
              "</div>"
            ],
            "text/plain": [
              "    Title  Survived\n",
              "0  Master  0.575000\n",
              "1    Miss  0.702703\n",
              "2      Mr  0.156673\n",
              "3     Mrs  0.793651\n",
              "4    Rare  0.347826"
            ]
          },
          "metadata": {
            "tags": []
          },
          "execution_count": 19
        }
      ]
    },
    {
      "cell_type": "code",
      "metadata": {
        "id": "NHQBnYWP8asH"
      },
      "source": [
        "title_mapping = {\"Mr\": 1, \"Miss\": 2, \"Mrs\": 3, \"Master\": 4, \"Rare\": 5}\n",
        "for dataset in combine:\n",
        "    dataset['Title'] = dataset['Title'].map(title_mapping)\n",
        "    dataset['Title'] = dataset['Title'].fillna(0)"
      ],
      "execution_count": null,
      "outputs": []
    },
    {
      "cell_type": "code",
      "metadata": {
        "id": "Wuci4AM_8asH",
        "colab": {
          "base_uri": "https://localhost:8080/",
          "height": 195
        },
        "outputId": "60e2124b-0b7b-4963-878d-f54ae2c34844"
      },
      "source": [
        "training_set.head()"
      ],
      "execution_count": null,
      "outputs": [
        {
          "output_type": "execute_result",
          "data": {
            "text/html": [
              "<div>\n",
              "<style scoped>\n",
              "    .dataframe tbody tr th:only-of-type {\n",
              "        vertical-align: middle;\n",
              "    }\n",
              "\n",
              "    .dataframe tbody tr th {\n",
              "        vertical-align: top;\n",
              "    }\n",
              "\n",
              "    .dataframe thead th {\n",
              "        text-align: right;\n",
              "    }\n",
              "</style>\n",
              "<table border=\"1\" class=\"dataframe\">\n",
              "  <thead>\n",
              "    <tr style=\"text-align: right;\">\n",
              "      <th></th>\n",
              "      <th>PassengerId</th>\n",
              "      <th>Survived</th>\n",
              "      <th>Pclass</th>\n",
              "      <th>Name</th>\n",
              "      <th>Sex</th>\n",
              "      <th>Age</th>\n",
              "      <th>SibSp</th>\n",
              "      <th>Parch</th>\n",
              "      <th>Fare</th>\n",
              "      <th>Embarked</th>\n",
              "      <th>Title</th>\n",
              "    </tr>\n",
              "  </thead>\n",
              "  <tbody>\n",
              "    <tr>\n",
              "      <th>0</th>\n",
              "      <td>1</td>\n",
              "      <td>0</td>\n",
              "      <td>3</td>\n",
              "      <td>Braund, Mr. Owen Harris</td>\n",
              "      <td>1</td>\n",
              "      <td>22.0</td>\n",
              "      <td>1</td>\n",
              "      <td>0</td>\n",
              "      <td>0</td>\n",
              "      <td>S</td>\n",
              "      <td>1</td>\n",
              "    </tr>\n",
              "    <tr>\n",
              "      <th>1</th>\n",
              "      <td>2</td>\n",
              "      <td>1</td>\n",
              "      <td>1</td>\n",
              "      <td>Cumings, Mrs. John Bradley (Florence Briggs Th...</td>\n",
              "      <td>0</td>\n",
              "      <td>38.0</td>\n",
              "      <td>1</td>\n",
              "      <td>0</td>\n",
              "      <td>3</td>\n",
              "      <td>C</td>\n",
              "      <td>3</td>\n",
              "    </tr>\n",
              "    <tr>\n",
              "      <th>2</th>\n",
              "      <td>3</td>\n",
              "      <td>1</td>\n",
              "      <td>3</td>\n",
              "      <td>Heikkinen, Miss. Laina</td>\n",
              "      <td>0</td>\n",
              "      <td>26.0</td>\n",
              "      <td>0</td>\n",
              "      <td>0</td>\n",
              "      <td>1</td>\n",
              "      <td>S</td>\n",
              "      <td>2</td>\n",
              "    </tr>\n",
              "    <tr>\n",
              "      <th>3</th>\n",
              "      <td>4</td>\n",
              "      <td>1</td>\n",
              "      <td>1</td>\n",
              "      <td>Futrelle, Mrs. Jacques Heath (Lily May Peel)</td>\n",
              "      <td>0</td>\n",
              "      <td>35.0</td>\n",
              "      <td>1</td>\n",
              "      <td>0</td>\n",
              "      <td>3</td>\n",
              "      <td>S</td>\n",
              "      <td>3</td>\n",
              "    </tr>\n",
              "    <tr>\n",
              "      <th>4</th>\n",
              "      <td>5</td>\n",
              "      <td>0</td>\n",
              "      <td>3</td>\n",
              "      <td>Allen, Mr. William Henry</td>\n",
              "      <td>1</td>\n",
              "      <td>35.0</td>\n",
              "      <td>0</td>\n",
              "      <td>0</td>\n",
              "      <td>1</td>\n",
              "      <td>S</td>\n",
              "      <td>1</td>\n",
              "    </tr>\n",
              "  </tbody>\n",
              "</table>\n",
              "</div>"
            ],
            "text/plain": [
              "   PassengerId  Survived  Pclass  ... Fare  Embarked  Title\n",
              "0            1         0       3  ...    0         S      1\n",
              "1            2         1       1  ...    3         C      3\n",
              "2            3         1       3  ...    1         S      2\n",
              "3            4         1       1  ...    3         S      3\n",
              "4            5         0       3  ...    1         S      1\n",
              "\n",
              "[5 rows x 11 columns]"
            ]
          },
          "metadata": {
            "tags": []
          },
          "execution_count": 21
        }
      ]
    },
    {
      "cell_type": "code",
      "metadata": {
        "id": "eU7nyPqL8asH"
      },
      "source": [
        "for dataset in combine:\n",
        "    dataset['Embarked'] = dataset['Embarked'].map( {'S': 0, 'C': 1, 'Q': 2} ).astype(int)\n",
        "for dataset in combine:\n",
        "    dataset['Age'] = dataset['Age'].astype(int)\n",
        "for dataset in combine:\n",
        "    dataset['FamilySize'] = dataset['SibSp'] + dataset['Parch'] + 1\n",
        "for dataset in combine:\n",
        "    dataset['IsAlone'] = 0\n",
        "    dataset.loc[dataset['FamilySize'] == 1, 'IsAlone'] = 1"
      ],
      "execution_count": null,
      "outputs": []
    },
    {
      "cell_type": "code",
      "metadata": {
        "id": "DREymykP8asI",
        "colab": {
          "base_uri": "https://localhost:8080/",
          "height": 284
        },
        "outputId": "f40349f1-efe7-48f3-98fb-cb362ba38fe1"
      },
      "source": [
        "training_set['AgeRange'] = pd.cut(training_set['Age'], 8)\n",
        "training_set[['AgeRange', 'Survived']].groupby(['AgeRange'], as_index=False).mean().sort_values(by='AgeRange', ascending=True)  "
      ],
      "execution_count": null,
      "outputs": [
        {
          "output_type": "execute_result",
          "data": {
            "text/html": [
              "<div>\n",
              "<style scoped>\n",
              "    .dataframe tbody tr th:only-of-type {\n",
              "        vertical-align: middle;\n",
              "    }\n",
              "\n",
              "    .dataframe tbody tr th {\n",
              "        vertical-align: top;\n",
              "    }\n",
              "\n",
              "    .dataframe thead th {\n",
              "        text-align: right;\n",
              "    }\n",
              "</style>\n",
              "<table border=\"1\" class=\"dataframe\">\n",
              "  <thead>\n",
              "    <tr style=\"text-align: right;\">\n",
              "      <th></th>\n",
              "      <th>AgeRange</th>\n",
              "      <th>Survived</th>\n",
              "    </tr>\n",
              "  </thead>\n",
              "  <tbody>\n",
              "    <tr>\n",
              "      <th>0</th>\n",
              "      <td>(-0.08, 10.0]</td>\n",
              "      <td>0.593750</td>\n",
              "    </tr>\n",
              "    <tr>\n",
              "      <th>1</th>\n",
              "      <td>(10.0, 20.0]</td>\n",
              "      <td>0.363636</td>\n",
              "    </tr>\n",
              "    <tr>\n",
              "      <th>2</th>\n",
              "      <td>(20.0, 30.0]</td>\n",
              "      <td>0.331288</td>\n",
              "    </tr>\n",
              "    <tr>\n",
              "      <th>3</th>\n",
              "      <td>(30.0, 40.0]</td>\n",
              "      <td>0.445161</td>\n",
              "    </tr>\n",
              "    <tr>\n",
              "      <th>4</th>\n",
              "      <td>(40.0, 50.0]</td>\n",
              "      <td>0.392857</td>\n",
              "    </tr>\n",
              "    <tr>\n",
              "      <th>5</th>\n",
              "      <td>(50.0, 60.0]</td>\n",
              "      <td>0.404762</td>\n",
              "    </tr>\n",
              "    <tr>\n",
              "      <th>6</th>\n",
              "      <td>(60.0, 70.0]</td>\n",
              "      <td>0.222222</td>\n",
              "    </tr>\n",
              "    <tr>\n",
              "      <th>7</th>\n",
              "      <td>(70.0, 80.0]</td>\n",
              "      <td>0.250000</td>\n",
              "    </tr>\n",
              "  </tbody>\n",
              "</table>\n",
              "</div>"
            ],
            "text/plain": [
              "        AgeRange  Survived\n",
              "0  (-0.08, 10.0]  0.593750\n",
              "1   (10.0, 20.0]  0.363636\n",
              "2   (20.0, 30.0]  0.331288\n",
              "3   (30.0, 40.0]  0.445161\n",
              "4   (40.0, 50.0]  0.392857\n",
              "5   (50.0, 60.0]  0.404762\n",
              "6   (60.0, 70.0]  0.222222\n",
              "7   (70.0, 80.0]  0.250000"
            ]
          },
          "metadata": {
            "tags": []
          },
          "execution_count": 23
        }
      ]
    },
    {
      "cell_type": "code",
      "metadata": {
        "id": "_H_MG30D8asI"
      },
      "source": [
        "def conv_age(x):\n",
        "    if x > -(0.08) and x <= 10.0:\n",
        "        return 0\n",
        "    elif x > 10.0 and x <= 20.0:\n",
        "        return 1\n",
        "    elif x > 20.0 and x <= 30.0:\n",
        "        return 2\n",
        "    elif x > 30.0 and x <= 40.0:\n",
        "        return 3\n",
        "    elif x > 40.0 and x <= 50.0:\n",
        "        return 4\n",
        "    elif x > 50.0 and x <= 60.0:\n",
        "        return 5\n",
        "    elif x > 60.0 and x <= 70.0:\n",
        "        return 6\n",
        "    elif x > 70.0 and x <= 80.0:\n",
        "        return 7\n",
        "    \n",
        "combine[0]['Age'] = training_set.Age.apply(conv_age)\n",
        "combine[1]['Age'] = test_set.Age.apply(conv_age)\n",
        "dataset['Age'] = dataset['Age'].astype(int)"
      ],
      "execution_count": null,
      "outputs": []
    },
    {
      "cell_type": "code",
      "metadata": {
        "id": "ofgUrYL18asJ"
      },
      "source": [
        "training_set = training_set.drop(['AgeRange','Name','Parch', 'SibSp', 'FamilySize'], axis=1)\n",
        "combine = [training_set, test_set]"
      ],
      "execution_count": null,
      "outputs": []
    },
    {
      "cell_type": "code",
      "metadata": {
        "id": "X8TxYXhm8asJ",
        "colab": {
          "base_uri": "https://localhost:8080/"
        },
        "outputId": "6fde21ec-0bf2-490c-b398-f2769c438790"
      },
      "source": [
        "X_train = training_set.drop(['Survived','PassengerId',], axis=1)\n",
        "X_train.shape"
      ],
      "execution_count": null,
      "outputs": [
        {
          "output_type": "execute_result",
          "data": {
            "text/plain": [
              "(891, 7)"
            ]
          },
          "metadata": {
            "tags": []
          },
          "execution_count": 26
        }
      ]
    },
    {
      "cell_type": "code",
      "metadata": {
        "id": "FvkM0vnr8asK",
        "colab": {
          "base_uri": "https://localhost:8080/",
          "height": 195
        },
        "outputId": "2f819d04-2baf-4460-ab2a-ff1308fc520f"
      },
      "source": [
        "X_train.head()"
      ],
      "execution_count": null,
      "outputs": [
        {
          "output_type": "execute_result",
          "data": {
            "text/html": [
              "<div>\n",
              "<style scoped>\n",
              "    .dataframe tbody tr th:only-of-type {\n",
              "        vertical-align: middle;\n",
              "    }\n",
              "\n",
              "    .dataframe tbody tr th {\n",
              "        vertical-align: top;\n",
              "    }\n",
              "\n",
              "    .dataframe thead th {\n",
              "        text-align: right;\n",
              "    }\n",
              "</style>\n",
              "<table border=\"1\" class=\"dataframe\">\n",
              "  <thead>\n",
              "    <tr style=\"text-align: right;\">\n",
              "      <th></th>\n",
              "      <th>Pclass</th>\n",
              "      <th>Sex</th>\n",
              "      <th>Age</th>\n",
              "      <th>Fare</th>\n",
              "      <th>Embarked</th>\n",
              "      <th>Title</th>\n",
              "      <th>IsAlone</th>\n",
              "    </tr>\n",
              "  </thead>\n",
              "  <tbody>\n",
              "    <tr>\n",
              "      <th>0</th>\n",
              "      <td>3</td>\n",
              "      <td>1</td>\n",
              "      <td>2</td>\n",
              "      <td>0</td>\n",
              "      <td>0</td>\n",
              "      <td>1</td>\n",
              "      <td>0</td>\n",
              "    </tr>\n",
              "    <tr>\n",
              "      <th>1</th>\n",
              "      <td>1</td>\n",
              "      <td>0</td>\n",
              "      <td>3</td>\n",
              "      <td>3</td>\n",
              "      <td>1</td>\n",
              "      <td>3</td>\n",
              "      <td>0</td>\n",
              "    </tr>\n",
              "    <tr>\n",
              "      <th>2</th>\n",
              "      <td>3</td>\n",
              "      <td>0</td>\n",
              "      <td>2</td>\n",
              "      <td>1</td>\n",
              "      <td>0</td>\n",
              "      <td>2</td>\n",
              "      <td>1</td>\n",
              "    </tr>\n",
              "    <tr>\n",
              "      <th>3</th>\n",
              "      <td>1</td>\n",
              "      <td>0</td>\n",
              "      <td>3</td>\n",
              "      <td>3</td>\n",
              "      <td>0</td>\n",
              "      <td>3</td>\n",
              "      <td>0</td>\n",
              "    </tr>\n",
              "    <tr>\n",
              "      <th>4</th>\n",
              "      <td>3</td>\n",
              "      <td>1</td>\n",
              "      <td>3</td>\n",
              "      <td>1</td>\n",
              "      <td>0</td>\n",
              "      <td>1</td>\n",
              "      <td>1</td>\n",
              "    </tr>\n",
              "  </tbody>\n",
              "</table>\n",
              "</div>"
            ],
            "text/plain": [
              "   Pclass  Sex  Age  Fare  Embarked  Title  IsAlone\n",
              "0       3    1    2     0         0      1        0\n",
              "1       1    0    3     3         1      3        0\n",
              "2       3    0    2     1         0      2        1\n",
              "3       1    0    3     3         0      3        0\n",
              "4       3    1    3     1         0      1        1"
            ]
          },
          "metadata": {
            "tags": []
          },
          "execution_count": 27
        }
      ]
    },
    {
      "cell_type": "code",
      "metadata": {
        "id": "BXhT2B4x8asK",
        "colab": {
          "base_uri": "https://localhost:8080/"
        },
        "outputId": "2dc2c002-277a-4174-9b71-ce3fe55cc8ea"
      },
      "source": [
        "Y_train = training_set[\"Survived\"]\n",
        "Y_train.shape"
      ],
      "execution_count": null,
      "outputs": [
        {
          "output_type": "execute_result",
          "data": {
            "text/plain": [
              "(891,)"
            ]
          },
          "metadata": {
            "tags": []
          },
          "execution_count": 28
        }
      ]
    },
    {
      "cell_type": "code",
      "metadata": {
        "id": "g51JJJPp8asK",
        "colab": {
          "base_uri": "https://localhost:8080/"
        },
        "outputId": "b9bf7674-7e47-4fc0-9db6-6752f11e1ad1"
      },
      "source": [
        "X_test  = test_set.drop(['PassengerId','Name','Parch', 'SibSp', 'FamilySize'], axis=1)\n",
        "X_test.shape"
      ],
      "execution_count": null,
      "outputs": [
        {
          "output_type": "execute_result",
          "data": {
            "text/plain": [
              "(418, 7)"
            ]
          },
          "metadata": {
            "tags": []
          },
          "execution_count": 29
        }
      ]
    },
    {
      "cell_type": "code",
      "metadata": {
        "id": "3eXTcNNk8asL"
      },
      "source": [
        "train_new=SelectKBest(score_func=f_classif,k=7).fit(X_train,Y_train)"
      ],
      "execution_count": null,
      "outputs": []
    },
    {
      "cell_type": "code",
      "metadata": {
        "id": "1thMFaXy8asL",
        "colab": {
          "base_uri": "https://localhost:8080/"
        },
        "outputId": "7f2e3d1c-55b4-464d-8f93-379ab461d75b"
      },
      "source": [
        "train_new_scores = pd.DataFrame(train_new.scores_)\n",
        "train_new_columns = pd.DataFrame(X_train.columns)\n",
        "feature_scores = pd.concat([train_new_columns, train_new_scores],axis=1)\n",
        "feature_scores.columns = ['Feature_Name','Score']  \n",
        "print(feature_scores.nlargest(7,'Score')) "
      ],
      "execution_count": null,
      "outputs": [
        {
          "output_type": "stream",
          "text": [
            "  Feature_Name       Score\n",
            "1          Sex  372.405724\n",
            "5        Title  177.283027\n",
            "0       Pclass  115.031272\n",
            "3         Fare   87.509411\n",
            "6      IsAlone   38.353651\n",
            "4     Embarked   10.259355\n",
            "2          Age    1.409483\n"
          ],
          "name": "stdout"
        }
      ]
    },
    {
      "cell_type": "code",
      "metadata": {
        "id": "l0Mx6z-d8asM",
        "colab": {
          "base_uri": "https://localhost:8080/",
          "height": 314
        },
        "outputId": "00d80510-2fa2-4d3f-ef6b-93a62ae1371f"
      },
      "source": [
        "training_set.corr(method = 'pearson')"
      ],
      "execution_count": null,
      "outputs": [
        {
          "output_type": "execute_result",
          "data": {
            "text/html": [
              "<div>\n",
              "<style scoped>\n",
              "    .dataframe tbody tr th:only-of-type {\n",
              "        vertical-align: middle;\n",
              "    }\n",
              "\n",
              "    .dataframe tbody tr th {\n",
              "        vertical-align: top;\n",
              "    }\n",
              "\n",
              "    .dataframe thead th {\n",
              "        text-align: right;\n",
              "    }\n",
              "</style>\n",
              "<table border=\"1\" class=\"dataframe\">\n",
              "  <thead>\n",
              "    <tr style=\"text-align: right;\">\n",
              "      <th></th>\n",
              "      <th>PassengerId</th>\n",
              "      <th>Survived</th>\n",
              "      <th>Pclass</th>\n",
              "      <th>Sex</th>\n",
              "      <th>Age</th>\n",
              "      <th>Fare</th>\n",
              "      <th>Embarked</th>\n",
              "      <th>Title</th>\n",
              "      <th>IsAlone</th>\n",
              "    </tr>\n",
              "  </thead>\n",
              "  <tbody>\n",
              "    <tr>\n",
              "      <th>PassengerId</th>\n",
              "      <td>1.000000</td>\n",
              "      <td>-0.005007</td>\n",
              "      <td>-0.035144</td>\n",
              "      <td>0.042939</td>\n",
              "      <td>0.034637</td>\n",
              "      <td>-0.022998</td>\n",
              "      <td>-0.030467</td>\n",
              "      <td>0.003878</td>\n",
              "      <td>0.057462</td>\n",
              "    </tr>\n",
              "    <tr>\n",
              "      <th>Survived</th>\n",
              "      <td>-0.005007</td>\n",
              "      <td>1.000000</td>\n",
              "      <td>-0.338481</td>\n",
              "      <td>-0.543351</td>\n",
              "      <td>-0.039786</td>\n",
              "      <td>0.299357</td>\n",
              "      <td>0.106811</td>\n",
              "      <td>0.407753</td>\n",
              "      <td>-0.203367</td>\n",
              "    </tr>\n",
              "    <tr>\n",
              "      <th>Pclass</th>\n",
              "      <td>-0.035144</td>\n",
              "      <td>-0.338481</td>\n",
              "      <td>1.000000</td>\n",
              "      <td>0.131900</td>\n",
              "      <td>-0.344854</td>\n",
              "      <td>-0.634271</td>\n",
              "      <td>0.045702</td>\n",
              "      <td>-0.173929</td>\n",
              "      <td>0.135207</td>\n",
              "    </tr>\n",
              "    <tr>\n",
              "      <th>Sex</th>\n",
              "      <td>0.042939</td>\n",
              "      <td>-0.543351</td>\n",
              "      <td>0.131900</td>\n",
              "      <td>1.000000</td>\n",
              "      <td>0.071912</td>\n",
              "      <td>-0.243613</td>\n",
              "      <td>-0.116569</td>\n",
              "      <td>-0.502713</td>\n",
              "      <td>0.303646</td>\n",
              "    </tr>\n",
              "    <tr>\n",
              "      <th>Age</th>\n",
              "      <td>0.034637</td>\n",
              "      <td>-0.039786</td>\n",
              "      <td>-0.344854</td>\n",
              "      <td>0.071912</td>\n",
              "      <td>1.000000</td>\n",
              "      <td>0.116360</td>\n",
              "      <td>-0.088937</td>\n",
              "      <td>-0.049218</td>\n",
              "      <td>0.115001</td>\n",
              "    </tr>\n",
              "    <tr>\n",
              "      <th>Fare</th>\n",
              "      <td>-0.022998</td>\n",
              "      <td>0.299357</td>\n",
              "      <td>-0.634271</td>\n",
              "      <td>-0.243613</td>\n",
              "      <td>0.116360</td>\n",
              "      <td>1.000000</td>\n",
              "      <td>-0.098161</td>\n",
              "      <td>0.339808</td>\n",
              "      <td>-0.560279</td>\n",
              "    </tr>\n",
              "    <tr>\n",
              "      <th>Embarked</th>\n",
              "      <td>-0.030467</td>\n",
              "      <td>0.106811</td>\n",
              "      <td>0.045702</td>\n",
              "      <td>-0.116569</td>\n",
              "      <td>-0.088937</td>\n",
              "      <td>-0.098161</td>\n",
              "      <td>1.000000</td>\n",
              "      <td>0.045400</td>\n",
              "      <td>0.017807</td>\n",
              "    </tr>\n",
              "    <tr>\n",
              "      <th>Title</th>\n",
              "      <td>0.003878</td>\n",
              "      <td>0.407753</td>\n",
              "      <td>-0.173929</td>\n",
              "      <td>-0.502713</td>\n",
              "      <td>-0.049218</td>\n",
              "      <td>0.339808</td>\n",
              "      <td>0.045400</td>\n",
              "      <td>1.000000</td>\n",
              "      <td>-0.405813</td>\n",
              "    </tr>\n",
              "    <tr>\n",
              "      <th>IsAlone</th>\n",
              "      <td>0.057462</td>\n",
              "      <td>-0.203367</td>\n",
              "      <td>0.135207</td>\n",
              "      <td>0.303646</td>\n",
              "      <td>0.115001</td>\n",
              "      <td>-0.560279</td>\n",
              "      <td>0.017807</td>\n",
              "      <td>-0.405813</td>\n",
              "      <td>1.000000</td>\n",
              "    </tr>\n",
              "  </tbody>\n",
              "</table>\n",
              "</div>"
            ],
            "text/plain": [
              "             PassengerId  Survived    Pclass  ...  Embarked     Title   IsAlone\n",
              "PassengerId     1.000000 -0.005007 -0.035144  ... -0.030467  0.003878  0.057462\n",
              "Survived       -0.005007  1.000000 -0.338481  ...  0.106811  0.407753 -0.203367\n",
              "Pclass         -0.035144 -0.338481  1.000000  ...  0.045702 -0.173929  0.135207\n",
              "Sex             0.042939 -0.543351  0.131900  ... -0.116569 -0.502713  0.303646\n",
              "Age             0.034637 -0.039786 -0.344854  ... -0.088937 -0.049218  0.115001\n",
              "Fare           -0.022998  0.299357 -0.634271  ... -0.098161  0.339808 -0.560279\n",
              "Embarked       -0.030467  0.106811  0.045702  ...  1.000000  0.045400  0.017807\n",
              "Title           0.003878  0.407753 -0.173929  ...  0.045400  1.000000 -0.405813\n",
              "IsAlone         0.057462 -0.203367  0.135207  ...  0.017807 -0.405813  1.000000\n",
              "\n",
              "[9 rows x 9 columns]"
            ]
          },
          "metadata": {
            "tags": []
          },
          "execution_count": 32
        }
      ]
    },
    {
      "cell_type": "code",
      "metadata": {
        "id": "jmh-22kh8asM",
        "colab": {
          "base_uri": "https://localhost:8080/",
          "height": 646
        },
        "outputId": "ef9da80d-889b-4c6f-ab35-5431ce9b7188"
      },
      "source": [
        "corrmat = training_set.corr(method = 'pearson')\n",
        "top_corr_features = corrmat.index\n",
        "plt.figure(figsize=(10,10))\n",
        "g=sns.heatmap(training_set[top_corr_features].corr(),annot=True,cmap=\"RdYlGn\")"
      ],
      "execution_count": null,
      "outputs": [
        {
          "output_type": "display_data",
          "data": {
            "image/png": "[encoded data removed]",
            "text/plain": [
              "<Figure size 720x720 with 2 Axes>"
            ]
          },
          "metadata": {
            "tags": [],
            "needs_background": "light"
          }
        }
      ]
    },
    {
      "cell_type": "code",
      "metadata": {
        "id": "JpylsshgpWlp"
      },
      "source": [
        "model = LogisticRegression(max_iter=1000)\n",
        "rfe = RFE(model)\n",
        "fit = rfe.fit(X_train, Y_train)\n",
        "print(\"Num Features: \",fit.n_features_)\n",
        "print(\"Selected Features: \",fit.support_)\n",
        "print(\"Feature Ranking: \",fit.ranking_)\n",
        "print(X_train.head())"
      ],
      "execution_count": null,
      "outputs": []
    },
    {
      "cell_type": "code",
      "metadata": {
        "id": "wXEO2NJs8asP",
        "colab": {
          "base_uri": "https://localhost:8080/"
        },
        "outputId": "2d46401d-f66d-41f3-8e79-10a31eaffe39"
      },
      "source": [
        "decision_tree = DecisionTreeClassifier(max_depth=5)\n",
        "decision_tree.fit(X_train, Y_train)\n",
        "Y_pred = decision_tree.predict(X_test)\n",
        "acc_decision_tree = round(decision_tree.score(X_train, Y_train) * 100, 2)\n",
        "print(acc_decision_tree)"
      ],
      "execution_count": null,
      "outputs": [
        {
          "output_type": "stream",
          "text": [
            "83.61\n"
          ],
          "name": "stdout"
        }
      ]
    },
    {
      "cell_type": "code",
      "metadata": {
        "id": "uCOJo05d8asP",
        "colab": {
          "base_uri": "https://localhost:8080/",
          "height": 254
        },
        "outputId": "e58f8d9b-bc65-4865-8f36-87a9ce2d80cb"
      },
      "source": [
        "feature_importances = pd.DataFrame(decision_tree.feature_importances_,\n",
        "                                   index = X_train.columns,\n",
        "                                    columns=['importance'])\n",
        "feature_importances.sort_values(by='importance', ascending=False).head(10)"
      ],
      "execution_count": null,
      "outputs": [
        {
          "output_type": "execute_result",
          "data": {
            "text/html": [
              "<div>\n",
              "<style scoped>\n",
              "    .dataframe tbody tr th:only-of-type {\n",
              "        vertical-align: middle;\n",
              "    }\n",
              "\n",
              "    .dataframe tbody tr th {\n",
              "        vertical-align: top;\n",
              "    }\n",
              "\n",
              "    .dataframe thead th {\n",
              "        text-align: right;\n",
              "    }\n",
              "</style>\n",
              "<table border=\"1\" class=\"dataframe\">\n",
              "  <thead>\n",
              "    <tr style=\"text-align: right;\">\n",
              "      <th></th>\n",
              "      <th>importance</th>\n",
              "    </tr>\n",
              "  </thead>\n",
              "  <tbody>\n",
              "    <tr>\n",
              "      <th>Title</th>\n",
              "      <td>0.654343</td>\n",
              "    </tr>\n",
              "    <tr>\n",
              "      <th>Pclass</th>\n",
              "      <td>0.200230</td>\n",
              "    </tr>\n",
              "    <tr>\n",
              "      <th>Fare</th>\n",
              "      <td>0.054078</td>\n",
              "    </tr>\n",
              "    <tr>\n",
              "      <th>Age</th>\n",
              "      <td>0.043752</td>\n",
              "    </tr>\n",
              "    <tr>\n",
              "      <th>Embarked</th>\n",
              "      <td>0.024221</td>\n",
              "    </tr>\n",
              "    <tr>\n",
              "      <th>IsAlone</th>\n",
              "      <td>0.015898</td>\n",
              "    </tr>\n",
              "    <tr>\n",
              "      <th>Sex</th>\n",
              "      <td>0.007478</td>\n",
              "    </tr>\n",
              "  </tbody>\n",
              "</table>\n",
              "</div>"
            ],
            "text/plain": [
              "          importance\n",
              "Title       0.654343\n",
              "Pclass      0.200230\n",
              "Fare        0.054078\n",
              "Age         0.043752\n",
              "Embarked    0.024221\n",
              "IsAlone     0.015898\n",
              "Sex         0.007478"
            ]
          },
          "metadata": {
            "tags": []
          },
          "execution_count": 36
        }
      ]
    },
    {
      "cell_type": "code",
      "metadata": {
        "id": "RMz8l-tv8asQ",
        "colab": {
          "base_uri": "https://localhost:8080/",
          "height": 815
        },
        "outputId": "3e2924e3-b4fa-40a8-fc26-05d6ffbe0877"
      },
      "source": [
        "dot_data = tree.export_graphviz(decision_tree, \n",
        "                                out_file=None,\n",
        "                                filled=True, \n",
        "                                rounded=True,  \n",
        "                                special_characters=True,\n",
        "                               feature_names = X_train.columns) \n",
        "graph = graphviz.Source(dot_data)\n",
        "graph"
      ],
      "execution_count": null,
      "outputs": [
        {
          "output_type": "execute_result",
          "data": {
            "text/plain": [
              "<graphviz.files.Source at 0x7f5d336840f0>"
            ],
            "image/svg+xml": "<?xml version=\"1.0\" encoding=\"UTF-8\" standalone=\"no\"?>\n<!DOCTYPE svg PUBLIC \"-//W3C//DTD SVG 1.1//EN\"\n \"http://www.w3.org/Graphics/SVG/1.1/DTD/svg11.dtd\">\n<!-- Generated by graphviz version 2.40.1 (20161225.0304)\n -->\n<!-- Title: Tree Pages: 1 -->\n<svg width=\"3220pt\" height=\"581pt\"\n viewBox=\"0.00 0.00 3220.00 581.00\" xmlns=\"http://www.w3.org/2000/svg\" xmlns:xlink=\"http://www.w3.org/1999/xlink\">\n<g id=\"graph0\" class=\"graph\" transform=\"scale(1 1) rotate(0) translate(4 577)\">\n<title>Tree</title>\n<polygon fill=\"#ffffff\" stroke=\"transparent\" points=\"-4,4 -4,-577 3216,-577 3216,4 -4,4\"/>\n<!-- 0 -->\n<g id=\"node1\" class=\"node\">\n<title>0</title>\n<path fill=\"#f5cfb4\" stroke=\"#000000\" d=\"M1789.5,-573C1789.5,-573 1681.5,-573 1681.5,-573 1675.5,-573 1669.5,-567 1669.5,-561 1669.5,-561 1669.5,-517 1669.5,-517 1669.5,-511 1675.5,-505 1681.5,-505 1681.5,-505 1789.5,-505 1789.5,-505 1795.5,-505 1801.5,-511 1801.5,-517 1801.5,-517 1801.5,-561 1801.5,-561 1801.5,-567 1795.5,-573 1789.5,-573\"/>\n<text text-anchor=\"start\" x=\"1704.5\" y=\"-557.8\" font-family=\"Helvetica,sans-Serif\" font-size=\"14.00\" fill=\"#000000\">Title ≤ 1.5</text>\n<text text-anchor=\"start\" x=\"1697.5\" y=\"-542.8\" font-family=\"Helvetica,sans-Serif\" font-size=\"14.00\" fill=\"#000000\">gini = 0.473</text>\n<text text-anchor=\"start\" x=\"1687.5\" y=\"-527.8\" font-family=\"Helvetica,sans-Serif\" font-size=\"14.00\" fill=\"#000000\">samples = 891</text>\n<text text-anchor=\"start\" x=\"1677.5\" y=\"-512.8\" font-family=\"Helvetica,sans-Serif\" font-size=\"14.00\" fill=\"#000000\">value = [549, 342]</text>\n</g>\n<!-- 1 -->\n<g id=\"node2\" class=\"node\">\n<title>1</title>\n<path fill=\"#ea985e\" stroke=\"#000000\" d=\"M1418.5,-469C1418.5,-469 1318.5,-469 1318.5,-469 1312.5,-469 1306.5,-463 1306.5,-457 1306.5,-457 1306.5,-413 1306.5,-413 1306.5,-407 1312.5,-401 1318.5,-401 1318.5,-401 1418.5,-401 1418.5,-401 1424.5,-401 1430.5,-407 1430.5,-413 1430.5,-413 1430.5,-457 1430.5,-457 1430.5,-463 1424.5,-469 1418.5,-469\"/>\n<text text-anchor=\"start\" x=\"1329\" y=\"-453.8\" font-family=\"Helvetica,sans-Serif\" font-size=\"14.00\" fill=\"#000000\">Pclass ≤ 1.5</text>\n<text text-anchor=\"start\" x=\"1330.5\" y=\"-438.8\" font-family=\"Helvetica,sans-Serif\" font-size=\"14.00\" fill=\"#000000\">gini = 0.264</text>\n<text text-anchor=\"start\" x=\"1320.5\" y=\"-423.8\" font-family=\"Helvetica,sans-Serif\" font-size=\"14.00\" fill=\"#000000\">samples = 517</text>\n<text text-anchor=\"start\" x=\"1314.5\" y=\"-408.8\" font-family=\"Helvetica,sans-Serif\" font-size=\"14.00\" fill=\"#000000\">value = [436, 81]</text>\n</g>\n<!-- 0&#45;&gt;1 -->\n<g id=\"edge1\" class=\"edge\">\n<title>0&#45;&gt;1</title>\n<path fill=\"none\" stroke=\"#000000\" d=\"M1669.4639,-520.2868C1604.9814,-502.0138 1507.1138,-474.2802 1440.6245,-455.4386\"/>\n<polygon fill=\"#000000\" stroke=\"#000000\" points=\"1441.2172,-451.9687 1430.6418,-452.6097 1439.3086,-458.7036 1441.2172,-451.9687\"/>\n<text text-anchor=\"middle\" x=\"1442.83\" y=\"-470.7373\" font-family=\"Helvetica,sans-Serif\" font-size=\"14.00\" fill=\"#000000\">True</text>\n</g>\n<!-- 30 -->\n<g id=\"node31\" class=\"node\">\n<title>30</title>\n<path fill=\"#8fc7f0\" stroke=\"#000000\" d=\"M2267.5,-469C2267.5,-469 2159.5,-469 2159.5,-469 2153.5,-469 2147.5,-463 2147.5,-457 2147.5,-457 2147.5,-413 2147.5,-413 2147.5,-407 2153.5,-401 2159.5,-401 2159.5,-401 2267.5,-401 2267.5,-401 2273.5,-401 2279.5,-407 2279.5,-413 2279.5,-413 2279.5,-457 2279.5,-457 2279.5,-463 2273.5,-469 2267.5,-469\"/>\n<text text-anchor=\"start\" x=\"2174\" y=\"-453.8\" font-family=\"Helvetica,sans-Serif\" font-size=\"14.00\" fill=\"#000000\">Pclass ≤ 2.5</text>\n<text text-anchor=\"start\" x=\"2175.5\" y=\"-438.8\" font-family=\"Helvetica,sans-Serif\" font-size=\"14.00\" fill=\"#000000\">gini = 0.422</text>\n<text text-anchor=\"start\" x=\"2165.5\" y=\"-423.8\" font-family=\"Helvetica,sans-Serif\" font-size=\"14.00\" fill=\"#000000\">samples = 374</text>\n<text text-anchor=\"start\" x=\"2155.5\" y=\"-408.8\" font-family=\"Helvetica,sans-Serif\" font-size=\"14.00\" fill=\"#000000\">value = [113, 261]</text>\n</g>\n<!-- 0&#45;&gt;30 -->\n<g id=\"edge30\" class=\"edge\">\n<title>0&#45;&gt;30</title>\n<path fill=\"none\" stroke=\"#000000\" d=\"M1801.7127,-524.5939C1889.6304,-505.4654 2044.5618,-471.7564 2137.2609,-451.5876\"/>\n<polygon fill=\"#000000\" stroke=\"#000000\" points=\"2138.1127,-454.9842 2147.1399,-449.4382 2136.6244,-448.1443 2138.1127,-454.9842\"/>\n<text text-anchor=\"middle\" x=\"2133.6246\" y=\"-466.77\" font-family=\"Helvetica,sans-Serif\" font-size=\"14.00\" fill=\"#000000\">False</text>\n</g>\n<!-- 2 -->\n<g id=\"node3\" class=\"node\">\n<title>2</title>\n<path fill=\"#f3c4a2\" stroke=\"#000000\" d=\"M769.5,-365C769.5,-365 677.5,-365 677.5,-365 671.5,-365 665.5,-359 665.5,-353 665.5,-353 665.5,-309 665.5,-309 665.5,-303 671.5,-297 677.5,-297 677.5,-297 769.5,-297 769.5,-297 775.5,-297 781.5,-303 781.5,-309 781.5,-309 781.5,-353 781.5,-353 781.5,-359 775.5,-365 769.5,-365\"/>\n<text text-anchor=\"start\" x=\"692.5\" y=\"-349.8\" font-family=\"Helvetica,sans-Serif\" font-size=\"14.00\" fill=\"#000000\">Age ≤ 4.5</text>\n<text text-anchor=\"start\" x=\"685.5\" y=\"-334.8\" font-family=\"Helvetica,sans-Serif\" font-size=\"14.00\" fill=\"#000000\">gini = 0.452</text>\n<text text-anchor=\"start\" x=\"675.5\" y=\"-319.8\" font-family=\"Helvetica,sans-Serif\" font-size=\"14.00\" fill=\"#000000\">samples = 107</text>\n<text text-anchor=\"start\" x=\"673.5\" y=\"-304.8\" font-family=\"Helvetica,sans-Serif\" font-size=\"14.00\" fill=\"#000000\">value = [70, 37]</text>\n</g>\n<!-- 1&#45;&gt;2 -->\n<g id=\"edge2\" class=\"edge\">\n<title>1&#45;&gt;2</title>\n<path fill=\"none\" stroke=\"#000000\" d=\"M1306.3619,-424.9808C1185.0899,-405.4269 917.745,-362.3201 791.7429,-342.0035\"/>\n<polygon fill=\"#000000\" stroke=\"#000000\" points=\"792.2523,-338.5405 781.8227,-340.404 791.138,-345.4513 792.2523,-338.5405\"/>\n</g>\n<!-- 17 -->\n<g id=\"node18\" class=\"node\">\n<title>17</title>\n<path fill=\"#e89051\" stroke=\"#000000\" d=\"M1418.5,-365C1418.5,-365 1318.5,-365 1318.5,-365 1312.5,-365 1306.5,-359 1306.5,-353 1306.5,-353 1306.5,-309 1306.5,-309 1306.5,-303 1312.5,-297 1318.5,-297 1318.5,-297 1418.5,-297 1418.5,-297 1424.5,-297 1430.5,-303 1430.5,-309 1430.5,-309 1430.5,-353 1430.5,-353 1430.5,-359 1424.5,-365 1418.5,-365\"/>\n<text text-anchor=\"start\" x=\"1335.5\" y=\"-349.8\" font-family=\"Helvetica,sans-Serif\" font-size=\"14.00\" fill=\"#000000\">Fare ≤ 2.5</text>\n<text text-anchor=\"start\" x=\"1330.5\" y=\"-334.8\" font-family=\"Helvetica,sans-Serif\" font-size=\"14.00\" fill=\"#000000\">gini = 0.192</text>\n<text text-anchor=\"start\" x=\"1320.5\" y=\"-319.8\" font-family=\"Helvetica,sans-Serif\" font-size=\"14.00\" fill=\"#000000\">samples = 410</text>\n<text text-anchor=\"start\" x=\"1314.5\" y=\"-304.8\" font-family=\"Helvetica,sans-Serif\" font-size=\"14.00\" fill=\"#000000\">value = [366, 44]</text>\n</g>\n<!-- 1&#45;&gt;17 -->\n<g id=\"edge17\" class=\"edge\">\n<title>1&#45;&gt;17</title>\n<path fill=\"none\" stroke=\"#000000\" d=\"M1368.5,-400.9465C1368.5,-392.776 1368.5,-383.9318 1368.5,-375.3697\"/>\n<polygon fill=\"#000000\" stroke=\"#000000\" points=\"1372.0001,-375.13 1368.5,-365.13 1365.0001,-375.13 1372.0001,-375.13\"/>\n</g>\n<!-- 3 -->\n<g id=\"node4\" class=\"node\">\n<title>3</title>\n<path fill=\"#f6d5bd\" stroke=\"#000000\" d=\"M410.5,-261C410.5,-261 318.5,-261 318.5,-261 312.5,-261 306.5,-255 306.5,-249 306.5,-249 306.5,-205 306.5,-205 306.5,-199 312.5,-193 318.5,-193 318.5,-193 410.5,-193 410.5,-193 416.5,-193 422.5,-199 422.5,-205 422.5,-205 422.5,-249 422.5,-249 422.5,-255 416.5,-261 410.5,-261\"/>\n<text text-anchor=\"start\" x=\"333.5\" y=\"-245.8\" font-family=\"Helvetica,sans-Serif\" font-size=\"14.00\" fill=\"#000000\">Age ≤ 1.5</text>\n<text text-anchor=\"start\" x=\"331\" y=\"-230.8\" font-family=\"Helvetica,sans-Serif\" font-size=\"14.00\" fill=\"#000000\">gini = 0.48</text>\n<text text-anchor=\"start\" x=\"320.5\" y=\"-215.8\" font-family=\"Helvetica,sans-Serif\" font-size=\"14.00\" fill=\"#000000\">samples = 85</text>\n<text text-anchor=\"start\" x=\"314.5\" y=\"-200.8\" font-family=\"Helvetica,sans-Serif\" font-size=\"14.00\" fill=\"#000000\">value = [51, 34]</text>\n</g>\n<!-- 2&#45;&gt;3 -->\n<g id=\"edge3\" class=\"edge\">\n<title>2&#45;&gt;3</title>\n<path fill=\"none\" stroke=\"#000000\" d=\"M665.4214,-314.175C601.7743,-295.7368 499.7849,-266.1912 432.4651,-246.689\"/>\n<polygon fill=\"#000000\" stroke=\"#000000\" points=\"433.3719,-243.3079 422.7929,-243.8871 431.424,-250.0315 433.3719,-243.3079\"/>\n</g>\n<!-- 10 -->\n<g id=\"node11\" class=\"node\">\n<title>10</title>\n<path fill=\"#e99558\" stroke=\"#000000\" d=\"M765,-261C765,-261 682,-261 682,-261 676,-261 670,-255 670,-249 670,-249 670,-205 670,-205 670,-199 676,-193 682,-193 682,-193 765,-193 765,-193 771,-193 777,-199 777,-205 777,-205 777,-249 777,-249 777,-255 771,-261 765,-261\"/>\n<text text-anchor=\"start\" x=\"692.5\" y=\"-245.8\" font-family=\"Helvetica,sans-Serif\" font-size=\"14.00\" fill=\"#000000\">Age ≤ 6.5</text>\n<text text-anchor=\"start\" x=\"685.5\" y=\"-230.8\" font-family=\"Helvetica,sans-Serif\" font-size=\"14.00\" fill=\"#000000\">gini = 0.236</text>\n<text text-anchor=\"start\" x=\"679.5\" y=\"-215.8\" font-family=\"Helvetica,sans-Serif\" font-size=\"14.00\" fill=\"#000000\">samples = 22</text>\n<text text-anchor=\"start\" x=\"678\" y=\"-200.8\" font-family=\"Helvetica,sans-Serif\" font-size=\"14.00\" fill=\"#000000\">value = [19, 3]</text>\n</g>\n<!-- 2&#45;&gt;10 -->\n<g id=\"edge10\" class=\"edge\">\n<title>2&#45;&gt;10</title>\n<path fill=\"none\" stroke=\"#000000\" d=\"M723.5,-296.9465C723.5,-288.776 723.5,-279.9318 723.5,-271.3697\"/>\n<polygon fill=\"#000000\" stroke=\"#000000\" points=\"727.0001,-271.13 723.5,-261.13 720.0001,-271.13 727.0001,-271.13\"/>\n</g>\n<!-- 4 -->\n<g id=\"node5\" class=\"node\">\n<title>4</title>\n<path fill=\"#eb9c63\" stroke=\"#000000\" d=\"M222,-157C222,-157 127,-157 127,-157 121,-157 115,-151 115,-145 115,-145 115,-101 115,-101 115,-95 121,-89 127,-89 127,-89 222,-89 222,-89 228,-89 234,-95 234,-101 234,-101 234,-145 234,-145 234,-151 228,-157 222,-157\"/>\n<text text-anchor=\"start\" x=\"123\" y=\"-141.8\" font-family=\"Helvetica,sans-Serif\" font-size=\"14.00\" fill=\"#000000\">Embarked ≤ 0.5</text>\n<text text-anchor=\"start\" x=\"136.5\" y=\"-126.8\" font-family=\"Helvetica,sans-Serif\" font-size=\"14.00\" fill=\"#000000\">gini = 0.291</text>\n<text text-anchor=\"start\" x=\"130.5\" y=\"-111.8\" font-family=\"Helvetica,sans-Serif\" font-size=\"14.00\" fill=\"#000000\">samples = 17</text>\n<text text-anchor=\"start\" x=\"129\" y=\"-96.8\" font-family=\"Helvetica,sans-Serif\" font-size=\"14.00\" fill=\"#000000\">value = [14, 3]</text>\n</g>\n<!-- 3&#45;&gt;4 -->\n<g id=\"edge4\" class=\"edge\">\n<title>3&#45;&gt;4</title>\n<path fill=\"none\" stroke=\"#000000\" d=\"M306.4613,-195.2315C286.4084,-184.2551 263.7523,-171.8539 242.9444,-160.4643\"/>\n<polygon fill=\"#000000\" stroke=\"#000000\" points=\"244.6053,-157.3834 234.1528,-155.6521 241.2442,-163.5238 244.6053,-157.3834\"/>\n</g>\n<!-- 7 -->\n<g id=\"node8\" class=\"node\">\n<title>7</title>\n<path fill=\"#fbebdf\" stroke=\"#000000\" d=\"M410.5,-157C410.5,-157 318.5,-157 318.5,-157 312.5,-157 306.5,-151 306.5,-145 306.5,-145 306.5,-101 306.5,-101 306.5,-95 312.5,-89 318.5,-89 318.5,-89 410.5,-89 410.5,-89 416.5,-89 422.5,-95 422.5,-101 422.5,-101 422.5,-145 422.5,-145 422.5,-151 416.5,-157 410.5,-157\"/>\n<text text-anchor=\"start\" x=\"331.5\" y=\"-141.8\" font-family=\"Helvetica,sans-Serif\" font-size=\"14.00\" fill=\"#000000\">Fare ≤ 1.0</text>\n<text text-anchor=\"start\" x=\"326.5\" y=\"-126.8\" font-family=\"Helvetica,sans-Serif\" font-size=\"14.00\" fill=\"#000000\">gini = 0.496</text>\n<text text-anchor=\"start\" x=\"320.5\" y=\"-111.8\" font-family=\"Helvetica,sans-Serif\" font-size=\"14.00\" fill=\"#000000\">samples = 68</text>\n<text text-anchor=\"start\" x=\"314.5\" y=\"-96.8\" font-family=\"Helvetica,sans-Serif\" font-size=\"14.00\" fill=\"#000000\">value = [37, 31]</text>\n</g>\n<!-- 3&#45;&gt;7 -->\n<g id=\"edge7\" class=\"edge\">\n<title>3&#45;&gt;7</title>\n<path fill=\"none\" stroke=\"#000000\" d=\"M364.5,-192.9465C364.5,-184.776 364.5,-175.9318 364.5,-167.3697\"/>\n<polygon fill=\"#000000\" stroke=\"#000000\" points=\"368.0001,-167.13 364.5,-157.13 361.0001,-167.13 368.0001,-167.13\"/>\n</g>\n<!-- 5 -->\n<g id=\"node6\" class=\"node\">\n<title>5</title>\n<path fill=\"#e88e4d\" stroke=\"#000000\" d=\"M95,-53C95,-53 12,-53 12,-53 6,-53 0,-47 0,-41 0,-41 0,-12 0,-12 0,-6 6,0 12,0 12,0 95,0 95,0 101,0 107,-6 107,-12 107,-12 107,-41 107,-41 107,-47 101,-53 95,-53\"/>\n<text text-anchor=\"start\" x=\"15.5\" y=\"-37.8\" font-family=\"Helvetica,sans-Serif\" font-size=\"14.00\" fill=\"#000000\">gini = 0.165</text>\n<text text-anchor=\"start\" x=\"9.5\" y=\"-22.8\" font-family=\"Helvetica,sans-Serif\" font-size=\"14.00\" fill=\"#000000\">samples = 11</text>\n<text text-anchor=\"start\" x=\"8\" y=\"-7.8\" font-family=\"Helvetica,sans-Serif\" font-size=\"14.00\" fill=\"#000000\">value = [10, 1]</text>\n</g>\n<!-- 4&#45;&gt;5 -->\n<g id=\"edge5\" class=\"edge\">\n<title>4&#45;&gt;5</title>\n<path fill=\"none\" stroke=\"#000000\" d=\"M131.8399,-88.9777C119.8989,-79.4545 106.9395,-69.1191 95.063,-59.6473\"/>\n<polygon fill=\"#000000\" stroke=\"#000000\" points=\"97.04,-56.7473 87.0395,-53.2485 92.6754,-62.22 97.04,-56.7473\"/>\n</g>\n<!-- 6 -->\n<g id=\"node7\" class=\"node\">\n<title>6</title>\n<path fill=\"#f2c09c\" stroke=\"#000000\" d=\"M212,-53C212,-53 137,-53 137,-53 131,-53 125,-47 125,-41 125,-41 125,-12 125,-12 125,-6 131,0 137,0 137,0 212,0 212,0 218,0 224,-6 224,-12 224,-12 224,-41 224,-41 224,-47 218,-53 212,-53\"/>\n<text text-anchor=\"start\" x=\"136.5\" y=\"-37.8\" font-family=\"Helvetica,sans-Serif\" font-size=\"14.00\" fill=\"#000000\">gini = 0.444</text>\n<text text-anchor=\"start\" x=\"135\" y=\"-22.8\" font-family=\"Helvetica,sans-Serif\" font-size=\"14.00\" fill=\"#000000\">samples = 6</text>\n<text text-anchor=\"start\" x=\"133\" y=\"-7.8\" font-family=\"Helvetica,sans-Serif\" font-size=\"14.00\" fill=\"#000000\">value = [4, 2]</text>\n</g>\n<!-- 4&#45;&gt;6 -->\n<g id=\"edge6\" class=\"edge\">\n<title>4&#45;&gt;6</title>\n<path fill=\"none\" stroke=\"#000000\" d=\"M174.5,-88.9777C174.5,-80.7364 174.5,-71.887 174.5,-63.5153\"/>\n<polygon fill=\"#000000\" stroke=\"#000000\" points=\"178.0001,-63.2484 174.5,-53.2485 171.0001,-63.2485 178.0001,-63.2484\"/>\n</g>\n<!-- 8 -->\n<g id=\"node9\" class=\"node\">\n<title>8</title>\n<path fill=\"#e58139\" stroke=\"#000000\" d=\"M329,-53C329,-53 254,-53 254,-53 248,-53 242,-47 242,-41 242,-41 242,-12 242,-12 242,-6 248,0 254,0 254,0 329,0 329,0 335,0 341,-6 341,-12 341,-12 341,-41 341,-41 341,-47 335,-53 329,-53\"/>\n<text text-anchor=\"start\" x=\"262\" y=\"-37.8\" font-family=\"Helvetica,sans-Serif\" font-size=\"14.00\" fill=\"#000000\">gini = 0.0</text>\n<text text-anchor=\"start\" x=\"252\" y=\"-22.8\" font-family=\"Helvetica,sans-Serif\" font-size=\"14.00\" fill=\"#000000\">samples = 4</text>\n<text text-anchor=\"start\" x=\"250\" y=\"-7.8\" font-family=\"Helvetica,sans-Serif\" font-size=\"14.00\" fill=\"#000000\">value = [4, 0]</text>\n</g>\n<!-- 7&#45;&gt;8 -->\n<g id=\"edge8\" class=\"edge\">\n<title>7&#45;&gt;8</title>\n<path fill=\"none\" stroke=\"#000000\" d=\"M338.7629,-88.9777C331.9744,-80.0039 324.6404,-70.3089 317.8216,-61.295\"/>\n<polygon fill=\"#000000\" stroke=\"#000000\" points=\"320.559,-59.1121 311.7346,-53.2485 314.9763,-63.3352 320.559,-59.1121\"/>\n</g>\n<!-- 9 -->\n<g id=\"node10\" class=\"node\">\n<title>9</title>\n<path fill=\"#fdf7f3\" stroke=\"#000000\" d=\"M463.5,-53C463.5,-53 371.5,-53 371.5,-53 365.5,-53 359.5,-47 359.5,-41 359.5,-41 359.5,-12 359.5,-12 359.5,-6 365.5,0 371.5,0 371.5,0 463.5,0 463.5,0 469.5,0 475.5,-6 475.5,-12 475.5,-12 475.5,-41 475.5,-41 475.5,-47 469.5,-53 463.5,-53\"/>\n<text text-anchor=\"start\" x=\"388\" y=\"-37.8\" font-family=\"Helvetica,sans-Serif\" font-size=\"14.00\" fill=\"#000000\">gini = 0.5</text>\n<text text-anchor=\"start\" x=\"373.5\" y=\"-22.8\" font-family=\"Helvetica,sans-Serif\" font-size=\"14.00\" fill=\"#000000\">samples = 64</text>\n<text text-anchor=\"start\" x=\"367.5\" y=\"-7.8\" font-family=\"Helvetica,sans-Serif\" font-size=\"14.00\" fill=\"#000000\">value = [33, 31]</text>\n</g>\n<!-- 7&#45;&gt;9 -->\n<g id=\"edge9\" class=\"edge\">\n<title>7&#45;&gt;9</title>\n<path fill=\"none\" stroke=\"#000000\" d=\"M383.1858,-88.9777C387.9636,-80.2786 393.1135,-70.9018 397.9341,-62.1247\"/>\n<polygon fill=\"#000000\" stroke=\"#000000\" points=\"401.0629,-63.6984 402.8091,-53.2485 394.9274,-60.3286 401.0629,-63.6984\"/>\n</g>\n<!-- 11 -->\n<g id=\"node12\" class=\"node\">\n<title>11</title>\n<path fill=\"#e89050\" stroke=\"#000000\" d=\"M700,-157C700,-157 617,-157 617,-157 611,-157 605,-151 605,-145 605,-145 605,-101 605,-101 605,-95 611,-89 617,-89 617,-89 700,-89 700,-89 706,-89 712,-95 712,-101 712,-101 712,-145 712,-145 712,-151 706,-157 700,-157\"/>\n<text text-anchor=\"start\" x=\"627.5\" y=\"-141.8\" font-family=\"Helvetica,sans-Serif\" font-size=\"14.00\" fill=\"#000000\">Age ≤ 5.5</text>\n<text text-anchor=\"start\" x=\"620.5\" y=\"-126.8\" font-family=\"Helvetica,sans-Serif\" font-size=\"14.00\" fill=\"#000000\">gini = 0.188</text>\n<text text-anchor=\"start\" x=\"614.5\" y=\"-111.8\" font-family=\"Helvetica,sans-Serif\" font-size=\"14.00\" fill=\"#000000\">samples = 19</text>\n<text text-anchor=\"start\" x=\"613\" y=\"-96.8\" font-family=\"Helvetica,sans-Serif\" font-size=\"14.00\" fill=\"#000000\">value = [17, 2]</text>\n</g>\n<!-- 10&#45;&gt;11 -->\n<g id=\"edge11\" class=\"edge\">\n<title>10&#45;&gt;11</title>\n<path fill=\"none\" stroke=\"#000000\" d=\"M702.2166,-192.9465C696.7733,-184.2373 690.8516,-174.7626 685.175,-165.6801\"/>\n<polygon fill=\"#000000\" stroke=\"#000000\" points=\"688.0993,-163.755 679.8312,-157.13 682.1633,-167.465 688.0993,-163.755\"/>\n</g>\n<!-- 14 -->\n<g id=\"node15\" class=\"node\">\n<title>14</title>\n<path fill=\"#f2c09c\" stroke=\"#000000\" d=\"M837,-157C837,-157 742,-157 742,-157 736,-157 730,-151 730,-145 730,-145 730,-101 730,-101 730,-95 736,-89 742,-89 742,-89 837,-89 837,-89 843,-89 849,-95 849,-101 849,-101 849,-145 849,-145 849,-151 843,-157 837,-157\"/>\n<text text-anchor=\"start\" x=\"738\" y=\"-141.8\" font-family=\"Helvetica,sans-Serif\" font-size=\"14.00\" fill=\"#000000\">Embarked ≤ 0.5</text>\n<text text-anchor=\"start\" x=\"751.5\" y=\"-126.8\" font-family=\"Helvetica,sans-Serif\" font-size=\"14.00\" fill=\"#000000\">gini = 0.444</text>\n<text text-anchor=\"start\" x=\"750\" y=\"-111.8\" font-family=\"Helvetica,sans-Serif\" font-size=\"14.00\" fill=\"#000000\">samples = 3</text>\n<text text-anchor=\"start\" x=\"748\" y=\"-96.8\" font-family=\"Helvetica,sans-Serif\" font-size=\"14.00\" fill=\"#000000\">value = [2, 1]</text>\n</g>\n<!-- 10&#45;&gt;14 -->\n<g id=\"edge14\" class=\"edge\">\n<title>10&#45;&gt;14</title>\n<path fill=\"none\" stroke=\"#000000\" d=\"M745.1109,-192.9465C750.6378,-184.2373 756.6506,-174.7626 762.4146,-165.6801\"/>\n<polygon fill=\"#000000\" stroke=\"#000000\" points=\"765.4374,-167.4487 767.8406,-157.13 759.5271,-163.6979 765.4374,-167.4487\"/>\n</g>\n<!-- 12 -->\n<g id=\"node13\" class=\"node\">\n<title>12</title>\n<path fill=\"#eb9d65\" stroke=\"#000000\" d=\"M585.5,-53C585.5,-53 505.5,-53 505.5,-53 499.5,-53 493.5,-47 493.5,-41 493.5,-41 493.5,-12 493.5,-12 493.5,-6 499.5,0 505.5,0 505.5,0 585.5,0 585.5,0 591.5,0 597.5,-6 597.5,-12 597.5,-12 597.5,-41 597.5,-41 597.5,-47 591.5,-53 585.5,-53\"/>\n<text text-anchor=\"start\" x=\"507.5\" y=\"-37.8\" font-family=\"Helvetica,sans-Serif\" font-size=\"14.00\" fill=\"#000000\">gini = 0.298</text>\n<text text-anchor=\"start\" x=\"501.5\" y=\"-22.8\" font-family=\"Helvetica,sans-Serif\" font-size=\"14.00\" fill=\"#000000\">samples = 11</text>\n<text text-anchor=\"start\" x=\"504\" y=\"-7.8\" font-family=\"Helvetica,sans-Serif\" font-size=\"14.00\" fill=\"#000000\">value = [9, 2]</text>\n</g>\n<!-- 11&#45;&gt;12 -->\n<g id=\"edge12\" class=\"edge\">\n<title>11&#45;&gt;12</title>\n<path fill=\"none\" stroke=\"#000000\" d=\"M618.6604,-88.9777C607.6161,-79.546 595.639,-69.3178 584.6352,-59.9208\"/>\n<polygon fill=\"#000000\" stroke=\"#000000\" points=\"586.6994,-57.081 576.8221,-53.2485 582.1536,-62.4041 586.6994,-57.081\"/>\n</g>\n<!-- 13 -->\n<g id=\"node14\" class=\"node\">\n<title>13</title>\n<path fill=\"#e58139\" stroke=\"#000000\" d=\"M703,-53C703,-53 628,-53 628,-53 622,-53 616,-47 616,-41 616,-41 616,-12 616,-12 616,-6 622,0 628,0 628,0 703,0 703,0 709,0 715,-6 715,-12 715,-12 715,-41 715,-41 715,-47 709,-53 703,-53\"/>\n<text text-anchor=\"start\" x=\"636\" y=\"-37.8\" font-family=\"Helvetica,sans-Serif\" font-size=\"14.00\" fill=\"#000000\">gini = 0.0</text>\n<text text-anchor=\"start\" x=\"626\" y=\"-22.8\" font-family=\"Helvetica,sans-Serif\" font-size=\"14.00\" fill=\"#000000\">samples = 8</text>\n<text text-anchor=\"start\" x=\"624\" y=\"-7.8\" font-family=\"Helvetica,sans-Serif\" font-size=\"14.00\" fill=\"#000000\">value = [8, 0]</text>\n</g>\n<!-- 11&#45;&gt;13 -->\n<g id=\"edge13\" class=\"edge\">\n<title>11&#45;&gt;13</title>\n<path fill=\"none\" stroke=\"#000000\" d=\"M660.9679,-88.9777C661.5724,-80.6449 662.222,-71.6903 662.8352,-63.2364\"/>\n<polygon fill=\"#000000\" stroke=\"#000000\" points=\"666.3269,-63.4755 663.5597,-53.2485 659.3453,-62.969 666.3269,-63.4755\"/>\n</g>\n<!-- 15 -->\n<g id=\"node16\" class=\"node\">\n<title>15</title>\n<path fill=\"#399de5\" stroke=\"#000000\" d=\"M820,-53C820,-53 745,-53 745,-53 739,-53 733,-47 733,-41 733,-41 733,-12 733,-12 733,-6 739,0 745,0 745,0 820,0 820,0 826,0 832,-6 832,-12 832,-12 832,-41 832,-41 832,-47 826,-53 820,-53\"/>\n<text text-anchor=\"start\" x=\"753\" y=\"-37.8\" font-family=\"Helvetica,sans-Serif\" font-size=\"14.00\" fill=\"#000000\">gini = 0.0</text>\n<text text-anchor=\"start\" x=\"743\" y=\"-22.8\" font-family=\"Helvetica,sans-Serif\" font-size=\"14.00\" fill=\"#000000\">samples = 1</text>\n<text text-anchor=\"start\" x=\"741\" y=\"-7.8\" font-family=\"Helvetica,sans-Serif\" font-size=\"14.00\" fill=\"#000000\">value = [0, 1]</text>\n</g>\n<!-- 14&#45;&gt;15 -->\n<g id=\"edge15\" class=\"edge\">\n<title>14&#45;&gt;15</title>\n<path fill=\"none\" stroke=\"#000000\" d=\"M787.0321,-88.9777C786.4276,-80.6449 785.778,-71.6903 785.1648,-63.2364\"/>\n<polygon fill=\"#000000\" stroke=\"#000000\" points=\"788.6547,-62.969 784.4403,-53.2485 781.6731,-63.4755 788.6547,-62.969\"/>\n</g>\n<!-- 16 -->\n<g id=\"node17\" class=\"node\">\n<title>16</title>\n<path fill=\"#e58139\" stroke=\"#000000\" d=\"M937,-53C937,-53 862,-53 862,-53 856,-53 850,-47 850,-41 850,-41 850,-12 850,-12 850,-6 856,0 862,0 862,0 937,0 937,0 943,0 949,-6 949,-12 949,-12 949,-41 949,-41 949,-47 943,-53 937,-53\"/>\n<text text-anchor=\"start\" x=\"870\" y=\"-37.8\" font-family=\"Helvetica,sans-Serif\" font-size=\"14.00\" fill=\"#000000\">gini = 0.0</text>\n<text text-anchor=\"start\" x=\"860\" y=\"-22.8\" font-family=\"Helvetica,sans-Serif\" font-size=\"14.00\" fill=\"#000000\">samples = 2</text>\n<text text-anchor=\"start\" x=\"858\" y=\"-7.8\" font-family=\"Helvetica,sans-Serif\" font-size=\"14.00\" fill=\"#000000\">value = [2, 0]</text>\n</g>\n<!-- 14&#45;&gt;16 -->\n<g id=\"edge16\" class=\"edge\">\n<title>14&#45;&gt;16</title>\n<path fill=\"none\" stroke=\"#000000\" d=\"M828.2819,-88.9777C839.033,-79.546 850.6922,-69.3178 861.4038,-59.9208\"/>\n<polygon fill=\"#000000\" stroke=\"#000000\" points=\"863.8004,-62.4743 869.0095,-53.2485 859.184,-57.2122 863.8004,-62.4743\"/>\n</g>\n<!-- 18 -->\n<g id=\"node19\" class=\"node\">\n<title>18</title>\n<path fill=\"#e88f4f\" stroke=\"#000000\" d=\"M1351.5,-261C1351.5,-261 1251.5,-261 1251.5,-261 1245.5,-261 1239.5,-255 1239.5,-249 1239.5,-249 1239.5,-205 1239.5,-205 1239.5,-199 1245.5,-193 1251.5,-193 1251.5,-193 1351.5,-193 1351.5,-193 1357.5,-193 1363.5,-199 1363.5,-205 1363.5,-205 1363.5,-249 1363.5,-249 1363.5,-255 1357.5,-261 1351.5,-261\"/>\n<text text-anchor=\"start\" x=\"1268.5\" y=\"-245.8\" font-family=\"Helvetica,sans-Serif\" font-size=\"14.00\" fill=\"#000000\">Fare ≤ 0.5</text>\n<text text-anchor=\"start\" x=\"1263.5\" y=\"-230.8\" font-family=\"Helvetica,sans-Serif\" font-size=\"14.00\" fill=\"#000000\">gini = 0.182</text>\n<text text-anchor=\"start\" x=\"1253.5\" y=\"-215.8\" font-family=\"Helvetica,sans-Serif\" font-size=\"14.00\" fill=\"#000000\">samples = 386</text>\n<text text-anchor=\"start\" x=\"1247.5\" y=\"-200.8\" font-family=\"Helvetica,sans-Serif\" font-size=\"14.00\" fill=\"#000000\">value = [347, 39]</text>\n</g>\n<!-- 17&#45;&gt;18 -->\n<g id=\"edge18\" class=\"edge\">\n<title>17&#45;&gt;18</title>\n<path fill=\"none\" stroke=\"#000000\" d=\"M1346.5617,-296.9465C1340.951,-288.2373 1334.8471,-278.7626 1328.9958,-269.6801\"/>\n<polygon fill=\"#000000\" stroke=\"#000000\" points=\"1331.8457,-267.641 1323.4876,-261.13 1325.9611,-271.4321 1331.8457,-267.641\"/>\n</g>\n<!-- 25 -->\n<g id=\"node26\" class=\"node\">\n<title>25</title>\n<path fill=\"#eca26d\" stroke=\"#000000\" d=\"M1477,-261C1477,-261 1394,-261 1394,-261 1388,-261 1382,-255 1382,-249 1382,-249 1382,-205 1382,-205 1382,-199 1388,-193 1394,-193 1394,-193 1477,-193 1477,-193 1483,-193 1489,-199 1489,-205 1489,-205 1489,-249 1489,-249 1489,-255 1483,-261 1477,-261\"/>\n<text text-anchor=\"start\" x=\"1393\" y=\"-245.8\" font-family=\"Helvetica,sans-Serif\" font-size=\"14.00\" fill=\"#000000\">IsAlone ≤ 0.5</text>\n<text text-anchor=\"start\" x=\"1402\" y=\"-230.8\" font-family=\"Helvetica,sans-Serif\" font-size=\"14.00\" fill=\"#000000\">gini = 0.33</text>\n<text text-anchor=\"start\" x=\"1391.5\" y=\"-215.8\" font-family=\"Helvetica,sans-Serif\" font-size=\"14.00\" fill=\"#000000\">samples = 24</text>\n<text text-anchor=\"start\" x=\"1390\" y=\"-200.8\" font-family=\"Helvetica,sans-Serif\" font-size=\"14.00\" fill=\"#000000\">value = [19, 5]</text>\n</g>\n<!-- 17&#45;&gt;25 -->\n<g id=\"edge25\" class=\"edge\">\n<title>17&#45;&gt;25</title>\n<path fill=\"none\" stroke=\"#000000\" d=\"M1390.4383,-296.9465C1396.049,-288.2373 1402.1529,-278.7626 1408.0042,-269.6801\"/>\n<polygon fill=\"#000000\" stroke=\"#000000\" points=\"1411.0389,-271.4321 1413.5124,-261.13 1405.1543,-267.641 1411.0389,-271.4321\"/>\n</g>\n<!-- 19 -->\n<g id=\"node20\" class=\"node\">\n<title>19</title>\n<path fill=\"#e78c4a\" stroke=\"#000000\" d=\"M1209.5,-157C1209.5,-157 1109.5,-157 1109.5,-157 1103.5,-157 1097.5,-151 1097.5,-145 1097.5,-145 1097.5,-101 1097.5,-101 1097.5,-95 1103.5,-89 1109.5,-89 1109.5,-89 1209.5,-89 1209.5,-89 1215.5,-89 1221.5,-95 1221.5,-101 1221.5,-101 1221.5,-145 1221.5,-145 1221.5,-151 1215.5,-157 1209.5,-157\"/>\n<text text-anchor=\"start\" x=\"1128.5\" y=\"-141.8\" font-family=\"Helvetica,sans-Serif\" font-size=\"14.00\" fill=\"#000000\">Age ≤ 2.5</text>\n<text text-anchor=\"start\" x=\"1121.5\" y=\"-126.8\" font-family=\"Helvetica,sans-Serif\" font-size=\"14.00\" fill=\"#000000\">gini = 0.148</text>\n<text text-anchor=\"start\" x=\"1111.5\" y=\"-111.8\" font-family=\"Helvetica,sans-Serif\" font-size=\"14.00\" fill=\"#000000\">samples = 174</text>\n<text text-anchor=\"start\" x=\"1105.5\" y=\"-96.8\" font-family=\"Helvetica,sans-Serif\" font-size=\"14.00\" fill=\"#000000\">value = [160, 14]</text>\n</g>\n<!-- 18&#45;&gt;19 -->\n<g id=\"edge19\" class=\"edge\">\n<title>18&#45;&gt;19</title>\n<path fill=\"none\" stroke=\"#000000\" d=\"M1255.0039,-192.9465C1242.0092,-183.4293 1227.7663,-172.9978 1214.3379,-163.163\"/>\n<polygon fill=\"#000000\" stroke=\"#000000\" points=\"1216.2363,-160.2151 1206.1006,-157.13 1212.1002,-165.8624 1216.2363,-160.2151\"/>\n</g>\n<!-- 22 -->\n<g id=\"node23\" class=\"node\">\n<title>22</title>\n<path fill=\"#e89253\" stroke=\"#000000\" d=\"M1351.5,-157C1351.5,-157 1251.5,-157 1251.5,-157 1245.5,-157 1239.5,-151 1239.5,-145 1239.5,-145 1239.5,-101 1239.5,-101 1239.5,-95 1245.5,-89 1251.5,-89 1251.5,-89 1351.5,-89 1351.5,-89 1357.5,-89 1363.5,-95 1363.5,-101 1363.5,-101 1363.5,-145 1363.5,-145 1363.5,-151 1357.5,-157 1351.5,-157\"/>\n<text text-anchor=\"start\" x=\"1268.5\" y=\"-141.8\" font-family=\"Helvetica,sans-Serif\" font-size=\"14.00\" fill=\"#000000\">Fare ≤ 1.5</text>\n<text text-anchor=\"start\" x=\"1263.5\" y=\"-126.8\" font-family=\"Helvetica,sans-Serif\" font-size=\"14.00\" fill=\"#000000\">gini = 0.208</text>\n<text text-anchor=\"start\" x=\"1253.5\" y=\"-111.8\" font-family=\"Helvetica,sans-Serif\" font-size=\"14.00\" fill=\"#000000\">samples = 212</text>\n<text text-anchor=\"start\" x=\"1247.5\" y=\"-96.8\" font-family=\"Helvetica,sans-Serif\" font-size=\"14.00\" fill=\"#000000\">value = [187, 25]</text>\n</g>\n<!-- 18&#45;&gt;22 -->\n<g id=\"edge22\" class=\"edge\">\n<title>18&#45;&gt;22</title>\n<path fill=\"none\" stroke=\"#000000\" d=\"M1301.5,-192.9465C1301.5,-184.776 1301.5,-175.9318 1301.5,-167.3697\"/>\n<polygon fill=\"#000000\" stroke=\"#000000\" points=\"1305.0001,-167.13 1301.5,-157.13 1298.0001,-167.13 1305.0001,-167.13\"/>\n</g>\n<!-- 20 -->\n<g id=\"node21\" class=\"node\">\n<title>20</title>\n<path fill=\"#e88e4e\" stroke=\"#000000\" d=\"M1079.5,-53C1079.5,-53 979.5,-53 979.5,-53 973.5,-53 967.5,-47 967.5,-41 967.5,-41 967.5,-12 967.5,-12 967.5,-6 973.5,0 979.5,0 979.5,0 1079.5,0 1079.5,0 1085.5,0 1091.5,-6 1091.5,-12 1091.5,-12 1091.5,-41 1091.5,-41 1091.5,-47 1085.5,-53 1079.5,-53\"/>\n<text text-anchor=\"start\" x=\"991.5\" y=\"-37.8\" font-family=\"Helvetica,sans-Serif\" font-size=\"14.00\" fill=\"#000000\">gini = 0.172</text>\n<text text-anchor=\"start\" x=\"981.5\" y=\"-22.8\" font-family=\"Helvetica,sans-Serif\" font-size=\"14.00\" fill=\"#000000\">samples = 137</text>\n<text text-anchor=\"start\" x=\"975.5\" y=\"-7.8\" font-family=\"Helvetica,sans-Serif\" font-size=\"14.00\" fill=\"#000000\">value = [124, 13]</text>\n</g>\n<!-- 19&#45;&gt;20 -->\n<g id=\"edge20\" class=\"edge\">\n<title>19&#45;&gt;20</title>\n<path fill=\"none\" stroke=\"#000000\" d=\"M1113.6669,-88.9777C1100.7143,-79.3629 1086.6465,-68.9203 1073.7867,-59.3743\"/>\n<polygon fill=\"#000000\" stroke=\"#000000\" points=\"1075.6499,-56.3986 1065.5342,-53.2485 1071.4776,-62.0193 1075.6499,-56.3986\"/>\n</g>\n<!-- 21 -->\n<g id=\"node22\" class=\"node\">\n<title>21</title>\n<path fill=\"#e6843e\" stroke=\"#000000\" d=\"M1205,-53C1205,-53 1122,-53 1122,-53 1116,-53 1110,-47 1110,-41 1110,-41 1110,-12 1110,-12 1110,-6 1116,0 1122,0 1122,0 1205,0 1205,0 1211,0 1217,-6 1217,-12 1217,-12 1217,-41 1217,-41 1217,-47 1211,-53 1205,-53\"/>\n<text text-anchor=\"start\" x=\"1125.5\" y=\"-37.8\" font-family=\"Helvetica,sans-Serif\" font-size=\"14.00\" fill=\"#000000\">gini = 0.053</text>\n<text text-anchor=\"start\" x=\"1119.5\" y=\"-22.8\" font-family=\"Helvetica,sans-Serif\" font-size=\"14.00\" fill=\"#000000\">samples = 37</text>\n<text text-anchor=\"start\" x=\"1118\" y=\"-7.8\" font-family=\"Helvetica,sans-Serif\" font-size=\"14.00\" fill=\"#000000\">value = [36, 1]</text>\n</g>\n<!-- 19&#45;&gt;21 -->\n<g id=\"edge21\" class=\"edge\">\n<title>19&#45;&gt;21</title>\n<path fill=\"none\" stroke=\"#000000\" d=\"M1160.9103,-88.9777C1161.2519,-80.7364 1161.6187,-71.887 1161.9657,-63.5153\"/>\n<polygon fill=\"#000000\" stroke=\"#000000\" points=\"1165.474,-63.3849 1162.3913,-53.2485 1158.48,-63.0949 1165.474,-63.3849\"/>\n</g>\n<!-- 23 -->\n<g id=\"node24\" class=\"node\">\n<title>23</title>\n<path fill=\"#e9965a\" stroke=\"#000000\" d=\"M1347.5,-53C1347.5,-53 1247.5,-53 1247.5,-53 1241.5,-53 1235.5,-47 1235.5,-41 1235.5,-41 1235.5,-12 1235.5,-12 1235.5,-6 1241.5,0 1247.5,0 1247.5,0 1347.5,0 1347.5,0 1353.5,0 1359.5,-6 1359.5,-12 1359.5,-12 1359.5,-41 1359.5,-41 1359.5,-47 1353.5,-53 1347.5,-53\"/>\n<text text-anchor=\"start\" x=\"1259.5\" y=\"-37.8\" font-family=\"Helvetica,sans-Serif\" font-size=\"14.00\" fill=\"#000000\">gini = 0.245</text>\n<text text-anchor=\"start\" x=\"1249.5\" y=\"-22.8\" font-family=\"Helvetica,sans-Serif\" font-size=\"14.00\" fill=\"#000000\">samples = 147</text>\n<text text-anchor=\"start\" x=\"1243.5\" y=\"-7.8\" font-family=\"Helvetica,sans-Serif\" font-size=\"14.00\" fill=\"#000000\">value = [126, 21]</text>\n</g>\n<!-- 22&#45;&gt;23 -->\n<g id=\"edge23\" class=\"edge\">\n<title>22&#45;&gt;23</title>\n<path fill=\"none\" stroke=\"#000000\" d=\"M1300.0897,-88.9777C1299.7481,-80.7364 1299.3813,-71.887 1299.0343,-63.5153\"/>\n<polygon fill=\"#000000\" stroke=\"#000000\" points=\"1302.52,-63.0949 1298.6087,-53.2485 1295.526,-63.3849 1302.52,-63.0949\"/>\n</g>\n<!-- 24 -->\n<g id=\"node25\" class=\"node\">\n<title>24</title>\n<path fill=\"#e78946\" stroke=\"#000000\" d=\"M1473,-53C1473,-53 1390,-53 1390,-53 1384,-53 1378,-47 1378,-41 1378,-41 1378,-12 1378,-12 1378,-6 1384,0 1390,0 1390,0 1473,0 1473,0 1479,0 1485,-6 1485,-12 1485,-12 1485,-41 1485,-41 1485,-47 1479,-53 1473,-53\"/>\n<text text-anchor=\"start\" x=\"1393.5\" y=\"-37.8\" font-family=\"Helvetica,sans-Serif\" font-size=\"14.00\" fill=\"#000000\">gini = 0.116</text>\n<text text-anchor=\"start\" x=\"1387.5\" y=\"-22.8\" font-family=\"Helvetica,sans-Serif\" font-size=\"14.00\" fill=\"#000000\">samples = 65</text>\n<text text-anchor=\"start\" x=\"1386\" y=\"-7.8\" font-family=\"Helvetica,sans-Serif\" font-size=\"14.00\" fill=\"#000000\">value = [61, 4]</text>\n</g>\n<!-- 22&#45;&gt;24 -->\n<g id=\"edge24\" class=\"edge\">\n<title>22&#45;&gt;24</title>\n<path fill=\"none\" stroke=\"#000000\" d=\"M1347.3331,-88.9777C1360.2857,-79.3629 1374.3535,-68.9203 1387.2133,-59.3743\"/>\n<polygon fill=\"#000000\" stroke=\"#000000\" points=\"1389.5224,-62.0193 1395.4658,-53.2485 1385.3501,-56.3986 1389.5224,-62.0193\"/>\n</g>\n<!-- 26 -->\n<g id=\"node27\" class=\"node\">\n<title>26</title>\n<path fill=\"#e58139\" stroke=\"#000000\" d=\"M1477,-149.5C1477,-149.5 1394,-149.5 1394,-149.5 1388,-149.5 1382,-143.5 1382,-137.5 1382,-137.5 1382,-108.5 1382,-108.5 1382,-102.5 1388,-96.5 1394,-96.5 1394,-96.5 1477,-96.5 1477,-96.5 1483,-96.5 1489,-102.5 1489,-108.5 1489,-108.5 1489,-137.5 1489,-137.5 1489,-143.5 1483,-149.5 1477,-149.5\"/>\n<text text-anchor=\"start\" x=\"1406\" y=\"-134.3\" font-family=\"Helvetica,sans-Serif\" font-size=\"14.00\" fill=\"#000000\">gini = 0.0</text>\n<text text-anchor=\"start\" x=\"1391.5\" y=\"-119.3\" font-family=\"Helvetica,sans-Serif\" font-size=\"14.00\" fill=\"#000000\">samples = 15</text>\n<text text-anchor=\"start\" x=\"1390\" y=\"-104.3\" font-family=\"Helvetica,sans-Serif\" font-size=\"14.00\" fill=\"#000000\">value = [15, 0]</text>\n</g>\n<!-- 25&#45;&gt;26 -->\n<g id=\"edge26\" class=\"edge\">\n<title>25&#45;&gt;26</title>\n<path fill=\"none\" stroke=\"#000000\" d=\"M1435.5,-192.9465C1435.5,-182.2621 1435.5,-170.4254 1435.5,-159.5742\"/>\n<polygon fill=\"#000000\" stroke=\"#000000\" points=\"1439.0001,-159.5421 1435.5,-149.5422 1432.0001,-159.5422 1439.0001,-159.5421\"/>\n</g>\n<!-- 27 -->\n<g id=\"node28\" class=\"node\">\n<title>27</title>\n<path fill=\"#d7ebfa\" stroke=\"#000000\" d=\"M1594,-157C1594,-157 1519,-157 1519,-157 1513,-157 1507,-151 1507,-145 1507,-145 1507,-101 1507,-101 1507,-95 1513,-89 1519,-89 1519,-89 1594,-89 1594,-89 1600,-89 1606,-95 1606,-101 1606,-101 1606,-145 1606,-145 1606,-151 1600,-157 1594,-157\"/>\n<text text-anchor=\"start\" x=\"1517\" y=\"-141.8\" font-family=\"Helvetica,sans-Serif\" font-size=\"14.00\" fill=\"#000000\">Pclass ≤ 2.5</text>\n<text text-anchor=\"start\" x=\"1518.5\" y=\"-126.8\" font-family=\"Helvetica,sans-Serif\" font-size=\"14.00\" fill=\"#000000\">gini = 0.494</text>\n<text text-anchor=\"start\" x=\"1517\" y=\"-111.8\" font-family=\"Helvetica,sans-Serif\" font-size=\"14.00\" fill=\"#000000\">samples = 9</text>\n<text text-anchor=\"start\" x=\"1515\" y=\"-96.8\" font-family=\"Helvetica,sans-Serif\" font-size=\"14.00\" fill=\"#000000\">value = [4, 5]</text>\n</g>\n<!-- 25&#45;&gt;27 -->\n<g id=\"edge27\" class=\"edge\">\n<title>25&#45;&gt;27</title>\n<path fill=\"none\" stroke=\"#000000\" d=\"M1475.1199,-192.9465C1485.984,-183.6088 1497.8718,-173.3911 1509.1235,-163.7203\"/>\n<polygon fill=\"#000000\" stroke=\"#000000\" points=\"1511.4887,-166.3026 1516.7911,-157.13 1506.9259,-160.994 1511.4887,-166.3026\"/>\n</g>\n<!-- 28 -->\n<g id=\"node29\" class=\"node\">\n<title>28</title>\n<path fill=\"#e58139\" stroke=\"#000000\" d=\"M1590,-53C1590,-53 1515,-53 1515,-53 1509,-53 1503,-47 1503,-41 1503,-41 1503,-12 1503,-12 1503,-6 1509,0 1515,0 1515,0 1590,0 1590,0 1596,0 1602,-6 1602,-12 1602,-12 1602,-41 1602,-41 1602,-47 1596,-53 1590,-53\"/>\n<text text-anchor=\"start\" x=\"1523\" y=\"-37.8\" font-family=\"Helvetica,sans-Serif\" font-size=\"14.00\" fill=\"#000000\">gini = 0.0</text>\n<text text-anchor=\"start\" x=\"1513\" y=\"-22.8\" font-family=\"Helvetica,sans-Serif\" font-size=\"14.00\" fill=\"#000000\">samples = 2</text>\n<text text-anchor=\"start\" x=\"1511\" y=\"-7.8\" font-family=\"Helvetica,sans-Serif\" font-size=\"14.00\" fill=\"#000000\">value = [2, 0]</text>\n</g>\n<!-- 27&#45;&gt;28 -->\n<g id=\"edge28\" class=\"edge\">\n<title>27&#45;&gt;28</title>\n<path fill=\"none\" stroke=\"#000000\" d=\"M1555.0897,-88.9777C1554.7481,-80.7364 1554.3813,-71.887 1554.0343,-63.5153\"/>\n<polygon fill=\"#000000\" stroke=\"#000000\" points=\"1557.52,-63.0949 1553.6087,-53.2485 1550.526,-63.3849 1557.52,-63.0949\"/>\n</g>\n<!-- 29 -->\n<g id=\"node30\" class=\"node\">\n<title>29</title>\n<path fill=\"#88c4ef\" stroke=\"#000000\" d=\"M1707,-53C1707,-53 1632,-53 1632,-53 1626,-53 1620,-47 1620,-41 1620,-41 1620,-12 1620,-12 1620,-6 1626,0 1632,0 1632,0 1707,0 1707,0 1713,0 1719,-6 1719,-12 1719,-12 1719,-41 1719,-41 1719,-47 1713,-53 1707,-53\"/>\n<text text-anchor=\"start\" x=\"1631.5\" y=\"-37.8\" font-family=\"Helvetica,sans-Serif\" font-size=\"14.00\" fill=\"#000000\">gini = 0.408</text>\n<text text-anchor=\"start\" x=\"1630\" y=\"-22.8\" font-family=\"Helvetica,sans-Serif\" font-size=\"14.00\" fill=\"#000000\">samples = 7</text>\n<text text-anchor=\"start\" x=\"1628\" y=\"-7.8\" font-family=\"Helvetica,sans-Serif\" font-size=\"14.00\" fill=\"#000000\">value = [2, 5]</text>\n</g>\n<!-- 27&#45;&gt;29 -->\n<g id=\"edge29\" class=\"edge\">\n<title>27&#45;&gt;29</title>\n<path fill=\"none\" stroke=\"#000000\" d=\"M1596.3396,-88.9777C1607.3839,-79.546 1619.361,-69.3178 1630.3648,-59.9208\"/>\n<polygon fill=\"#000000\" stroke=\"#000000\" points=\"1632.8464,-62.4041 1638.1779,-53.2485 1628.3006,-57.081 1632.8464,-62.4041\"/>\n</g>\n<!-- 31 -->\n<g id=\"node32\" class=\"node\">\n<title>31</title>\n<path fill=\"#54aae9\" stroke=\"#000000\" d=\"M2263.5,-365C2263.5,-365 2163.5,-365 2163.5,-365 2157.5,-365 2151.5,-359 2151.5,-353 2151.5,-353 2151.5,-309 2151.5,-309 2151.5,-303 2157.5,-297 2163.5,-297 2163.5,-297 2263.5,-297 2263.5,-297 2269.5,-297 2275.5,-303 2275.5,-309 2275.5,-309 2275.5,-353 2275.5,-353 2275.5,-359 2269.5,-365 2263.5,-365\"/>\n<text text-anchor=\"start\" x=\"2182.5\" y=\"-349.8\" font-family=\"Helvetica,sans-Serif\" font-size=\"14.00\" fill=\"#000000\">Title ≤ 4.5</text>\n<text text-anchor=\"start\" x=\"2175.5\" y=\"-334.8\" font-family=\"Helvetica,sans-Serif\" font-size=\"14.00\" fill=\"#000000\">gini = 0.209</text>\n<text text-anchor=\"start\" x=\"2165.5\" y=\"-319.8\" font-family=\"Helvetica,sans-Serif\" font-size=\"14.00\" fill=\"#000000\">samples = 202</text>\n<text text-anchor=\"start\" x=\"2159.5\" y=\"-304.8\" font-family=\"Helvetica,sans-Serif\" font-size=\"14.00\" fill=\"#000000\">value = [24, 178]</text>\n</g>\n<!-- 30&#45;&gt;31 -->\n<g id=\"edge31\" class=\"edge\">\n<title>30&#45;&gt;31</title>\n<path fill=\"none\" stroke=\"#000000\" d=\"M2213.5,-400.9465C2213.5,-392.776 2213.5,-383.9318 2213.5,-375.3697\"/>\n<polygon fill=\"#000000\" stroke=\"#000000\" points=\"2217.0001,-375.13 2213.5,-365.13 2210.0001,-375.13 2217.0001,-375.13\"/>\n</g>\n<!-- 44 -->\n<g id=\"node45\" class=\"node\">\n<title>44</title>\n<path fill=\"#fdf7f2\" stroke=\"#000000\" d=\"M2773.5,-365C2773.5,-365 2681.5,-365 2681.5,-365 2675.5,-365 2669.5,-359 2669.5,-353 2669.5,-353 2669.5,-309 2669.5,-309 2669.5,-303 2675.5,-297 2681.5,-297 2681.5,-297 2773.5,-297 2773.5,-297 2779.5,-297 2785.5,-303 2785.5,-309 2785.5,-309 2785.5,-353 2785.5,-353 2785.5,-359 2779.5,-365 2773.5,-365\"/>\n<text text-anchor=\"start\" x=\"2694.5\" y=\"-349.8\" font-family=\"Helvetica,sans-Serif\" font-size=\"14.00\" fill=\"#000000\">Fare ≤ 2.5</text>\n<text text-anchor=\"start\" x=\"2689.5\" y=\"-334.8\" font-family=\"Helvetica,sans-Serif\" font-size=\"14.00\" fill=\"#000000\">gini = 0.499</text>\n<text text-anchor=\"start\" x=\"2679.5\" y=\"-319.8\" font-family=\"Helvetica,sans-Serif\" font-size=\"14.00\" fill=\"#000000\">samples = 172</text>\n<text text-anchor=\"start\" x=\"2677.5\" y=\"-304.8\" font-family=\"Helvetica,sans-Serif\" font-size=\"14.00\" fill=\"#000000\">value = [89, 83]</text>\n</g>\n<!-- 30&#45;&gt;44 -->\n<g id=\"edge44\" class=\"edge\">\n<title>30&#45;&gt;44</title>\n<path fill=\"none\" stroke=\"#000000\" d=\"M2279.6442,-421.6167C2377.5522,-401.8066 2560.1234,-364.8661 2659.2368,-344.812\"/>\n<polygon fill=\"#000000\" stroke=\"#000000\" points=\"2660.0391,-348.2207 2669.1464,-342.807 2658.6508,-341.3597 2660.0391,-348.2207\"/>\n</g>\n<!-- 32 -->\n<g id=\"node33\" class=\"node\">\n<title>32</title>\n<path fill=\"#43a2e6\" stroke=\"#000000\" d=\"M2140.5,-261C2140.5,-261 2048.5,-261 2048.5,-261 2042.5,-261 2036.5,-255 2036.5,-249 2036.5,-249 2036.5,-205 2036.5,-205 2036.5,-199 2042.5,-193 2048.5,-193 2048.5,-193 2140.5,-193 2140.5,-193 2146.5,-193 2152.5,-199 2152.5,-205 2152.5,-205 2152.5,-249 2152.5,-249 2152.5,-255 2146.5,-261 2140.5,-261\"/>\n<text text-anchor=\"start\" x=\"2061.5\" y=\"-245.8\" font-family=\"Helvetica,sans-Serif\" font-size=\"14.00\" fill=\"#000000\">Fare ≤ 2.5</text>\n<text text-anchor=\"start\" x=\"2056.5\" y=\"-230.8\" font-family=\"Helvetica,sans-Serif\" font-size=\"14.00\" fill=\"#000000\">gini = 0.096</text>\n<text text-anchor=\"start\" x=\"2046.5\" y=\"-215.8\" font-family=\"Helvetica,sans-Serif\" font-size=\"14.00\" fill=\"#000000\">samples = 179</text>\n<text text-anchor=\"start\" x=\"2044.5\" y=\"-200.8\" font-family=\"Helvetica,sans-Serif\" font-size=\"14.00\" fill=\"#000000\">value = [9, 170]</text>\n</g>\n<!-- 31&#45;&gt;32 -->\n<g id=\"edge32\" class=\"edge\">\n<title>31&#45;&gt;32</title>\n<path fill=\"none\" stroke=\"#000000\" d=\"M2174.5349,-296.9465C2163.8505,-287.6088 2152.1591,-277.3911 2141.0934,-267.7203\"/>\n<polygon fill=\"#000000\" stroke=\"#000000\" points=\"2143.3855,-265.0752 2133.5526,-261.13 2138.7791,-270.346 2143.3855,-265.0752\"/>\n</g>\n<!-- 39 -->\n<g id=\"node40\" class=\"node\">\n<title>39</title>\n<path fill=\"#f3c4a3\" stroke=\"#000000\" d=\"M2320,-261C2320,-261 2237,-261 2237,-261 2231,-261 2225,-255 2225,-249 2225,-249 2225,-205 2225,-205 2225,-199 2231,-193 2237,-193 2237,-193 2320,-193 2320,-193 2326,-193 2332,-199 2332,-205 2332,-205 2332,-249 2332,-249 2332,-255 2326,-261 2320,-261\"/>\n<text text-anchor=\"start\" x=\"2239\" y=\"-245.8\" font-family=\"Helvetica,sans-Serif\" font-size=\"14.00\" fill=\"#000000\">Pclass ≤ 1.5</text>\n<text text-anchor=\"start\" x=\"2240.5\" y=\"-230.8\" font-family=\"Helvetica,sans-Serif\" font-size=\"14.00\" fill=\"#000000\">gini = 0.454</text>\n<text text-anchor=\"start\" x=\"2234.5\" y=\"-215.8\" font-family=\"Helvetica,sans-Serif\" font-size=\"14.00\" fill=\"#000000\">samples = 23</text>\n<text text-anchor=\"start\" x=\"2233\" y=\"-200.8\" font-family=\"Helvetica,sans-Serif\" font-size=\"14.00\" fill=\"#000000\">value = [15, 8]</text>\n</g>\n<!-- 31&#45;&gt;39 -->\n<g id=\"edge39\" class=\"edge\">\n<title>31&#45;&gt;39</title>\n<path fill=\"none\" stroke=\"#000000\" d=\"M2234.7834,-296.9465C2240.2267,-288.2373 2246.1484,-278.7626 2251.825,-269.6801\"/>\n<polygon fill=\"#000000\" stroke=\"#000000\" points=\"2254.8367,-271.465 2257.1688,-261.13 2248.9007,-267.755 2254.8367,-271.465\"/>\n</g>\n<!-- 33 -->\n<g id=\"node34\" class=\"node\">\n<title>33</title>\n<path fill=\"#4ca6e7\" stroke=\"#000000\" d=\"M1957,-157C1957,-157 1874,-157 1874,-157 1868,-157 1862,-151 1862,-145 1862,-145 1862,-101 1862,-101 1862,-95 1868,-89 1874,-89 1874,-89 1957,-89 1957,-89 1963,-89 1969,-95 1969,-101 1969,-101 1969,-145 1969,-145 1969,-151 1963,-157 1957,-157\"/>\n<text text-anchor=\"start\" x=\"1884.5\" y=\"-141.8\" font-family=\"Helvetica,sans-Serif\" font-size=\"14.00\" fill=\"#000000\">Age ≤ 1.5</text>\n<text text-anchor=\"start\" x=\"1882\" y=\"-126.8\" font-family=\"Helvetica,sans-Serif\" font-size=\"14.00\" fill=\"#000000\">gini = 0.16</text>\n<text text-anchor=\"start\" x=\"1871.5\" y=\"-111.8\" font-family=\"Helvetica,sans-Serif\" font-size=\"14.00\" fill=\"#000000\">samples = 80</text>\n<text text-anchor=\"start\" x=\"1870\" y=\"-96.8\" font-family=\"Helvetica,sans-Serif\" font-size=\"14.00\" fill=\"#000000\">value = [7, 73]</text>\n</g>\n<!-- 32&#45;&gt;33 -->\n<g id=\"edge33\" class=\"edge\">\n<title>32&#45;&gt;33</title>\n<path fill=\"none\" stroke=\"#000000\" d=\"M2036.3838,-193.2342C2017.7009,-182.3793 1996.9289,-170.3107 1977.9485,-159.2829\"/>\n<polygon fill=\"#000000\" stroke=\"#000000\" points=\"1979.4857,-156.1282 1969.0808,-154.1308 1975.9691,-162.1808 1979.4857,-156.1282\"/>\n</g>\n<!-- 36 -->\n<g id=\"node37\" class=\"node\">\n<title>36</title>\n<path fill=\"#3d9fe6\" stroke=\"#000000\" d=\"M2136,-157C2136,-157 2053,-157 2053,-157 2047,-157 2041,-151 2041,-145 2041,-145 2041,-101 2041,-101 2041,-95 2047,-89 2053,-89 2053,-89 2136,-89 2136,-89 2142,-89 2148,-95 2148,-101 2148,-101 2148,-145 2148,-145 2148,-151 2142,-157 2136,-157\"/>\n<text text-anchor=\"start\" x=\"2063.5\" y=\"-141.8\" font-family=\"Helvetica,sans-Serif\" font-size=\"14.00\" fill=\"#000000\">Age ≤ 0.5</text>\n<text text-anchor=\"start\" x=\"2061\" y=\"-126.8\" font-family=\"Helvetica,sans-Serif\" font-size=\"14.00\" fill=\"#000000\">gini = 0.04</text>\n<text text-anchor=\"start\" x=\"2050.5\" y=\"-111.8\" font-family=\"Helvetica,sans-Serif\" font-size=\"14.00\" fill=\"#000000\">samples = 99</text>\n<text text-anchor=\"start\" x=\"2049\" y=\"-96.8\" font-family=\"Helvetica,sans-Serif\" font-size=\"14.00\" fill=\"#000000\">value = [2, 97]</text>\n</g>\n<!-- 32&#45;&gt;36 -->\n<g id=\"edge36\" class=\"edge\">\n<title>32&#45;&gt;36</title>\n<path fill=\"none\" stroke=\"#000000\" d=\"M2094.5,-192.9465C2094.5,-184.776 2094.5,-175.9318 2094.5,-167.3697\"/>\n<polygon fill=\"#000000\" stroke=\"#000000\" points=\"2098.0001,-167.13 2094.5,-157.13 2091.0001,-167.13 2098.0001,-167.13\"/>\n</g>\n<!-- 34 -->\n<g id=\"node35\" class=\"node\">\n<title>34</title>\n<path fill=\"#399de5\" stroke=\"#000000\" d=\"M1832,-53C1832,-53 1749,-53 1749,-53 1743,-53 1737,-47 1737,-41 1737,-41 1737,-12 1737,-12 1737,-6 1743,0 1749,0 1749,0 1832,0 1832,0 1838,0 1844,-6 1844,-12 1844,-12 1844,-41 1844,-41 1844,-47 1838,-53 1832,-53\"/>\n<text text-anchor=\"start\" x=\"1761\" y=\"-37.8\" font-family=\"Helvetica,sans-Serif\" font-size=\"14.00\" fill=\"#000000\">gini = 0.0</text>\n<text text-anchor=\"start\" x=\"1746.5\" y=\"-22.8\" font-family=\"Helvetica,sans-Serif\" font-size=\"14.00\" fill=\"#000000\">samples = 22</text>\n<text text-anchor=\"start\" x=\"1745\" y=\"-7.8\" font-family=\"Helvetica,sans-Serif\" font-size=\"14.00\" fill=\"#000000\">value = [0, 22]</text>\n</g>\n<!-- 33&#45;&gt;34 -->\n<g id=\"edge34\" class=\"edge\">\n<title>33&#45;&gt;34</title>\n<path fill=\"none\" stroke=\"#000000\" d=\"M1871.4297,-88.9777C1858.9752,-79.3629 1845.4485,-68.9203 1833.0833,-59.3743\"/>\n<polygon fill=\"#000000\" stroke=\"#000000\" points=\"1835.2028,-56.5889 1825.1483,-53.2485 1830.9251,-62.1299 1835.2028,-56.5889\"/>\n</g>\n<!-- 35 -->\n<g id=\"node36\" class=\"node\">\n<title>35</title>\n<path fill=\"#54aae9\" stroke=\"#000000\" d=\"M1957,-53C1957,-53 1874,-53 1874,-53 1868,-53 1862,-47 1862,-41 1862,-41 1862,-12 1862,-12 1862,-6 1868,0 1874,0 1874,0 1957,0 1957,0 1963,0 1969,-6 1969,-12 1969,-12 1969,-41 1969,-41 1969,-47 1963,-53 1957,-53\"/>\n<text text-anchor=\"start\" x=\"1877.5\" y=\"-37.8\" font-family=\"Helvetica,sans-Serif\" font-size=\"14.00\" fill=\"#000000\">gini = 0.212</text>\n<text text-anchor=\"start\" x=\"1871.5\" y=\"-22.8\" font-family=\"Helvetica,sans-Serif\" font-size=\"14.00\" fill=\"#000000\">samples = 58</text>\n<text text-anchor=\"start\" x=\"1870\" y=\"-7.8\" font-family=\"Helvetica,sans-Serif\" font-size=\"14.00\" fill=\"#000000\">value = [7, 51]</text>\n</g>\n<!-- 33&#45;&gt;35 -->\n<g id=\"edge35\" class=\"edge\">\n<title>33&#45;&gt;35</title>\n<path fill=\"none\" stroke=\"#000000\" d=\"M1915.5,-88.9777C1915.5,-80.7364 1915.5,-71.887 1915.5,-63.5153\"/>\n<polygon fill=\"#000000\" stroke=\"#000000\" points=\"1919.0001,-63.2484 1915.5,-53.2485 1912.0001,-63.2485 1919.0001,-63.2484\"/>\n</g>\n<!-- 37 -->\n<g id=\"node38\" class=\"node\">\n<title>37</title>\n<path fill=\"#52a9e8\" stroke=\"#000000\" d=\"M2074,-53C2074,-53 1999,-53 1999,-53 1993,-53 1987,-47 1987,-41 1987,-41 1987,-12 1987,-12 1987,-6 1993,0 1999,0 1999,0 2074,0 2074,0 2080,0 2086,-6 2086,-12 2086,-12 2086,-41 2086,-41 2086,-47 2080,-53 2074,-53\"/>\n<text text-anchor=\"start\" x=\"1998.5\" y=\"-37.8\" font-family=\"Helvetica,sans-Serif\" font-size=\"14.00\" fill=\"#000000\">gini = 0.198</text>\n<text text-anchor=\"start\" x=\"1997\" y=\"-22.8\" font-family=\"Helvetica,sans-Serif\" font-size=\"14.00\" fill=\"#000000\">samples = 9</text>\n<text text-anchor=\"start\" x=\"1995\" y=\"-7.8\" font-family=\"Helvetica,sans-Serif\" font-size=\"14.00\" fill=\"#000000\">value = [1, 8]</text>\n</g>\n<!-- 36&#45;&gt;37 -->\n<g id=\"edge37\" class=\"edge\">\n<title>36&#45;&gt;37</title>\n<path fill=\"none\" stroke=\"#000000\" d=\"M2074.0514,-88.9777C2068.7678,-80.187 2063.0684,-70.7044 2057.7452,-61.8477\"/>\n<polygon fill=\"#000000\" stroke=\"#000000\" points=\"2060.7282,-60.0165 2052.5768,-53.2485 2054.7285,-63.6225 2060.7282,-60.0165\"/>\n</g>\n<!-- 38 -->\n<g id=\"node39\" class=\"node\">\n<title>38</title>\n<path fill=\"#3b9ee5\" stroke=\"#000000\" d=\"M2199,-53C2199,-53 2116,-53 2116,-53 2110,-53 2104,-47 2104,-41 2104,-41 2104,-12 2104,-12 2104,-6 2110,0 2116,0 2116,0 2199,0 2199,0 2205,0 2211,-6 2211,-12 2211,-12 2211,-41 2211,-41 2211,-47 2205,-53 2199,-53\"/>\n<text text-anchor=\"start\" x=\"2119.5\" y=\"-37.8\" font-family=\"Helvetica,sans-Serif\" font-size=\"14.00\" fill=\"#000000\">gini = 0.022</text>\n<text text-anchor=\"start\" x=\"2113.5\" y=\"-22.8\" font-family=\"Helvetica,sans-Serif\" font-size=\"14.00\" fill=\"#000000\">samples = 90</text>\n<text text-anchor=\"start\" x=\"2112\" y=\"-7.8\" font-family=\"Helvetica,sans-Serif\" font-size=\"14.00\" fill=\"#000000\">value = [1, 89]</text>\n</g>\n<!-- 36&#45;&gt;38 -->\n<g id=\"edge38\" class=\"edge\">\n<title>36&#45;&gt;38</title>\n<path fill=\"none\" stroke=\"#000000\" d=\"M2116.7114,-88.9777C2122.4504,-80.187 2128.6412,-70.7044 2134.4233,-61.8477\"/>\n<polygon fill=\"#000000\" stroke=\"#000000\" points=\"2137.5013,-63.5354 2140.0373,-53.2485 2131.6398,-59.7087 2137.5013,-63.5354\"/>\n</g>\n<!-- 40 -->\n<g id=\"node41\" class=\"node\">\n<title>40</title>\n<path fill=\"#e6f3fc\" stroke=\"#000000\" d=\"M2318.5,-157C2318.5,-157 2238.5,-157 2238.5,-157 2232.5,-157 2226.5,-151 2226.5,-145 2226.5,-145 2226.5,-101 2226.5,-101 2226.5,-95 2232.5,-89 2238.5,-89 2238.5,-89 2318.5,-89 2318.5,-89 2324.5,-89 2330.5,-95 2330.5,-101 2330.5,-101 2330.5,-145 2330.5,-145 2330.5,-151 2324.5,-157 2318.5,-157\"/>\n<text text-anchor=\"start\" x=\"2248\" y=\"-141.8\" font-family=\"Helvetica,sans-Serif\" font-size=\"14.00\" fill=\"#000000\">Sex ≤ 0.5</text>\n<text text-anchor=\"start\" x=\"2240.5\" y=\"-126.8\" font-family=\"Helvetica,sans-Serif\" font-size=\"14.00\" fill=\"#000000\">gini = 0.498</text>\n<text text-anchor=\"start\" x=\"2234.5\" y=\"-111.8\" font-family=\"Helvetica,sans-Serif\" font-size=\"14.00\" fill=\"#000000\">samples = 15</text>\n<text text-anchor=\"start\" x=\"2237\" y=\"-96.8\" font-family=\"Helvetica,sans-Serif\" font-size=\"14.00\" fill=\"#000000\">value = [7, 8]</text>\n</g>\n<!-- 39&#45;&gt;40 -->\n<g id=\"edge40\" class=\"edge\">\n<title>39&#45;&gt;40</title>\n<path fill=\"none\" stroke=\"#000000\" d=\"M2278.5,-192.9465C2278.5,-184.776 2278.5,-175.9318 2278.5,-167.3697\"/>\n<polygon fill=\"#000000\" stroke=\"#000000\" points=\"2282.0001,-167.13 2278.5,-157.13 2275.0001,-167.13 2282.0001,-167.13\"/>\n</g>\n<!-- 43 -->\n<g id=\"node44\" class=\"node\">\n<title>43</title>\n<path fill=\"#e58139\" stroke=\"#000000\" d=\"M2436,-149.5C2436,-149.5 2361,-149.5 2361,-149.5 2355,-149.5 2349,-143.5 2349,-137.5 2349,-137.5 2349,-108.5 2349,-108.5 2349,-102.5 2355,-96.5 2361,-96.5 2361,-96.5 2436,-96.5 2436,-96.5 2442,-96.5 2448,-102.5 2448,-108.5 2448,-108.5 2448,-137.5 2448,-137.5 2448,-143.5 2442,-149.5 2436,-149.5\"/>\n<text text-anchor=\"start\" x=\"2369\" y=\"-134.3\" font-family=\"Helvetica,sans-Serif\" font-size=\"14.00\" fill=\"#000000\">gini = 0.0</text>\n<text text-anchor=\"start\" x=\"2359\" y=\"-119.3\" font-family=\"Helvetica,sans-Serif\" font-size=\"14.00\" fill=\"#000000\">samples = 8</text>\n<text text-anchor=\"start\" x=\"2357\" y=\"-104.3\" font-family=\"Helvetica,sans-Serif\" font-size=\"14.00\" fill=\"#000000\">value = [8, 0]</text>\n</g>\n<!-- 39&#45;&gt;43 -->\n<g id=\"edge43\" class=\"edge\">\n<title>39&#45;&gt;43</title>\n<path fill=\"none\" stroke=\"#000000\" d=\"M2317.7925,-192.9465C2331.3917,-181.1606 2346.6085,-167.9726 2360.1324,-156.2519\"/>\n<polygon fill=\"#000000\" stroke=\"#000000\" points=\"2362.6098,-158.7364 2367.8744,-149.5422 2358.0252,-153.4466 2362.6098,-158.7364\"/>\n</g>\n<!-- 41 -->\n<g id=\"node42\" class=\"node\">\n<title>41</title>\n<path fill=\"#399de5\" stroke=\"#000000\" d=\"M2316,-53C2316,-53 2241,-53 2241,-53 2235,-53 2229,-47 2229,-41 2229,-41 2229,-12 2229,-12 2229,-6 2235,0 2241,0 2241,0 2316,0 2316,0 2322,0 2328,-6 2328,-12 2328,-12 2328,-41 2328,-41 2328,-47 2322,-53 2316,-53\"/>\n<text text-anchor=\"start\" x=\"2249\" y=\"-37.8\" font-family=\"Helvetica,sans-Serif\" font-size=\"14.00\" fill=\"#000000\">gini = 0.0</text>\n<text text-anchor=\"start\" x=\"2239\" y=\"-22.8\" font-family=\"Helvetica,sans-Serif\" font-size=\"14.00\" fill=\"#000000\">samples = 3</text>\n<text text-anchor=\"start\" x=\"2237\" y=\"-7.8\" font-family=\"Helvetica,sans-Serif\" font-size=\"14.00\" fill=\"#000000\">value = [0, 3]</text>\n</g>\n<!-- 40&#45;&gt;41 -->\n<g id=\"edge41\" class=\"edge\">\n<title>40&#45;&gt;41</title>\n<path fill=\"none\" stroke=\"#000000\" d=\"M2278.5,-88.9777C2278.5,-80.7364 2278.5,-71.887 2278.5,-63.5153\"/>\n<polygon fill=\"#000000\" stroke=\"#000000\" points=\"2282.0001,-63.2484 2278.5,-53.2485 2275.0001,-63.2485 2282.0001,-63.2484\"/>\n</g>\n<!-- 42 -->\n<g id=\"node43\" class=\"node\">\n<title>42</title>\n<path fill=\"#f8dbc6\" stroke=\"#000000\" d=\"M2438.5,-53C2438.5,-53 2358.5,-53 2358.5,-53 2352.5,-53 2346.5,-47 2346.5,-41 2346.5,-41 2346.5,-12 2346.5,-12 2346.5,-6 2352.5,0 2358.5,0 2358.5,0 2438.5,0 2438.5,0 2444.5,0 2450.5,-6 2450.5,-12 2450.5,-12 2450.5,-41 2450.5,-41 2450.5,-47 2444.5,-53 2438.5,-53\"/>\n<text text-anchor=\"start\" x=\"2360.5\" y=\"-37.8\" font-family=\"Helvetica,sans-Serif\" font-size=\"14.00\" fill=\"#000000\">gini = 0.486</text>\n<text text-anchor=\"start\" x=\"2354.5\" y=\"-22.8\" font-family=\"Helvetica,sans-Serif\" font-size=\"14.00\" fill=\"#000000\">samples = 12</text>\n<text text-anchor=\"start\" x=\"2357\" y=\"-7.8\" font-family=\"Helvetica,sans-Serif\" font-size=\"14.00\" fill=\"#000000\">value = [7, 5]</text>\n</g>\n<!-- 40&#45;&gt;42 -->\n<g id=\"edge42\" class=\"edge\">\n<title>40&#45;&gt;42</title>\n<path fill=\"none\" stroke=\"#000000\" d=\"M2320.8075,-88.9777C2332.6499,-79.4545 2345.5021,-69.1191 2357.2805,-59.6473\"/>\n<polygon fill=\"#000000\" stroke=\"#000000\" points=\"2359.6382,-62.2427 2365.2376,-53.2485 2355.2514,-56.7877 2359.6382,-62.2427\"/>\n</g>\n<!-- 45 -->\n<g id=\"node46\" class=\"node\">\n<title>45</title>\n<path fill=\"#dceefa\" stroke=\"#000000\" d=\"M2775,-261C2775,-261 2680,-261 2680,-261 2674,-261 2668,-255 2668,-249 2668,-249 2668,-205 2668,-205 2668,-199 2674,-193 2680,-193 2680,-193 2775,-193 2775,-193 2781,-193 2787,-199 2787,-205 2787,-205 2787,-249 2787,-249 2787,-255 2781,-261 2775,-261\"/>\n<text text-anchor=\"start\" x=\"2676\" y=\"-245.8\" font-family=\"Helvetica,sans-Serif\" font-size=\"14.00\" fill=\"#000000\">Embarked ≤ 0.5</text>\n<text text-anchor=\"start\" x=\"2689.5\" y=\"-230.8\" font-family=\"Helvetica,sans-Serif\" font-size=\"14.00\" fill=\"#000000\">gini = 0.495</text>\n<text text-anchor=\"start\" x=\"2679.5\" y=\"-215.8\" font-family=\"Helvetica,sans-Serif\" font-size=\"14.00\" fill=\"#000000\">samples = 146</text>\n<text text-anchor=\"start\" x=\"2677.5\" y=\"-200.8\" font-family=\"Helvetica,sans-Serif\" font-size=\"14.00\" fill=\"#000000\">value = [66, 80]</text>\n</g>\n<!-- 44&#45;&gt;45 -->\n<g id=\"edge45\" class=\"edge\">\n<title>44&#45;&gt;45</title>\n<path fill=\"none\" stroke=\"#000000\" d=\"M2727.5,-296.9465C2727.5,-288.776 2727.5,-279.9318 2727.5,-271.3697\"/>\n<polygon fill=\"#000000\" stroke=\"#000000\" points=\"2731.0001,-271.13 2727.5,-261.13 2724.0001,-271.13 2731.0001,-271.13\"/>\n</g>\n<!-- 52 -->\n<g id=\"node53\" class=\"node\">\n<title>52</title>\n<path fill=\"#e89153\" stroke=\"#000000\" d=\"M3083,-261C3083,-261 3000,-261 3000,-261 2994,-261 2988,-255 2988,-249 2988,-249 2988,-205 2988,-205 2988,-199 2994,-193 3000,-193 3000,-193 3083,-193 3083,-193 3089,-193 3095,-199 3095,-205 3095,-205 3095,-249 3095,-249 3095,-255 3089,-261 3083,-261\"/>\n<text text-anchor=\"start\" x=\"3010.5\" y=\"-245.8\" font-family=\"Helvetica,sans-Serif\" font-size=\"14.00\" fill=\"#000000\">Age ≤ 3.5</text>\n<text text-anchor=\"start\" x=\"3003.5\" y=\"-230.8\" font-family=\"Helvetica,sans-Serif\" font-size=\"14.00\" fill=\"#000000\">gini = 0.204</text>\n<text text-anchor=\"start\" x=\"2997.5\" y=\"-215.8\" font-family=\"Helvetica,sans-Serif\" font-size=\"14.00\" fill=\"#000000\">samples = 26</text>\n<text text-anchor=\"start\" x=\"2996\" y=\"-200.8\" font-family=\"Helvetica,sans-Serif\" font-size=\"14.00\" fill=\"#000000\">value = [23, 3]</text>\n</g>\n<!-- 44&#45;&gt;52 -->\n<g id=\"edge52\" class=\"edge\">\n<title>44&#45;&gt;52</title>\n<path fill=\"none\" stroke=\"#000000\" d=\"M2785.8251,-311.6821C2840.5652,-293.5517 2922.2189,-266.5071 2978.4458,-247.8842\"/>\n<polygon fill=\"#000000\" stroke=\"#000000\" points=\"2979.5464,-251.2067 2987.9388,-244.74 2977.3455,-244.5617 2979.5464,-251.2067\"/>\n</g>\n<!-- 46 -->\n<g id=\"node47\" class=\"node\">\n<title>46</title>\n<path fill=\"#fae9dc\" stroke=\"#000000\" d=\"M2706.5,-157C2706.5,-157 2614.5,-157 2614.5,-157 2608.5,-157 2602.5,-151 2602.5,-145 2602.5,-145 2602.5,-101 2602.5,-101 2602.5,-95 2608.5,-89 2614.5,-89 2614.5,-89 2706.5,-89 2706.5,-89 2712.5,-89 2718.5,-95 2718.5,-101 2718.5,-101 2718.5,-145 2718.5,-145 2718.5,-151 2712.5,-157 2706.5,-157\"/>\n<text text-anchor=\"start\" x=\"2629.5\" y=\"-141.8\" font-family=\"Helvetica,sans-Serif\" font-size=\"14.00\" fill=\"#000000\">Title ≤ 2.5</text>\n<text text-anchor=\"start\" x=\"2622.5\" y=\"-126.8\" font-family=\"Helvetica,sans-Serif\" font-size=\"14.00\" fill=\"#000000\">gini = 0.495</text>\n<text text-anchor=\"start\" x=\"2616.5\" y=\"-111.8\" font-family=\"Helvetica,sans-Serif\" font-size=\"14.00\" fill=\"#000000\">samples = 82</text>\n<text text-anchor=\"start\" x=\"2610.5\" y=\"-96.8\" font-family=\"Helvetica,sans-Serif\" font-size=\"14.00\" fill=\"#000000\">value = [45, 37]</text>\n</g>\n<!-- 45&#45;&gt;46 -->\n<g id=\"edge46\" class=\"edge\">\n<title>45&#45;&gt;46</title>\n<path fill=\"none\" stroke=\"#000000\" d=\"M2705.5617,-192.9465C2699.951,-184.2373 2693.8471,-174.7626 2687.9958,-165.6801\"/>\n<polygon fill=\"#000000\" stroke=\"#000000\" points=\"2690.8457,-163.641 2682.4876,-157.13 2684.9611,-167.4321 2690.8457,-163.641\"/>\n</g>\n<!-- 49 -->\n<g id=\"node50\" class=\"node\">\n<title>49</title>\n<path fill=\"#9acdf2\" stroke=\"#000000\" d=\"M2840.5,-157C2840.5,-157 2748.5,-157 2748.5,-157 2742.5,-157 2736.5,-151 2736.5,-145 2736.5,-145 2736.5,-101 2736.5,-101 2736.5,-95 2742.5,-89 2748.5,-89 2748.5,-89 2840.5,-89 2840.5,-89 2846.5,-89 2852.5,-95 2852.5,-101 2852.5,-101 2852.5,-145 2852.5,-145 2852.5,-151 2846.5,-157 2840.5,-157\"/>\n<text text-anchor=\"start\" x=\"2763.5\" y=\"-141.8\" font-family=\"Helvetica,sans-Serif\" font-size=\"14.00\" fill=\"#000000\">Age ≤ 2.5</text>\n<text text-anchor=\"start\" x=\"2756.5\" y=\"-126.8\" font-family=\"Helvetica,sans-Serif\" font-size=\"14.00\" fill=\"#000000\">gini = 0.441</text>\n<text text-anchor=\"start\" x=\"2750.5\" y=\"-111.8\" font-family=\"Helvetica,sans-Serif\" font-size=\"14.00\" fill=\"#000000\">samples = 64</text>\n<text text-anchor=\"start\" x=\"2744.5\" y=\"-96.8\" font-family=\"Helvetica,sans-Serif\" font-size=\"14.00\" fill=\"#000000\">value = [21, 43]</text>\n</g>\n<!-- 45&#45;&gt;49 -->\n<g id=\"edge49\" class=\"edge\">\n<title>45&#45;&gt;49</title>\n<path fill=\"none\" stroke=\"#000000\" d=\"M2749.4383,-192.9465C2755.049,-184.2373 2761.1529,-174.7626 2767.0042,-165.6801\"/>\n<polygon fill=\"#000000\" stroke=\"#000000\" points=\"2770.0389,-167.4321 2772.5124,-157.13 2764.1543,-163.641 2770.0389,-167.4321\"/>\n</g>\n<!-- 47 -->\n<g id=\"node48\" class=\"node\">\n<title>47</title>\n<path fill=\"#f5cfb4\" stroke=\"#000000\" d=\"M2572.5,-53C2572.5,-53 2480.5,-53 2480.5,-53 2474.5,-53 2468.5,-47 2468.5,-41 2468.5,-41 2468.5,-12 2468.5,-12 2468.5,-6 2474.5,0 2480.5,0 2480.5,0 2572.5,0 2572.5,0 2578.5,0 2584.5,-6 2584.5,-12 2584.5,-12 2584.5,-41 2584.5,-41 2584.5,-47 2578.5,-53 2572.5,-53\"/>\n<text text-anchor=\"start\" x=\"2488.5\" y=\"-37.8\" font-family=\"Helvetica,sans-Serif\" font-size=\"14.00\" fill=\"#000000\">gini = 0.473</text>\n<text text-anchor=\"start\" x=\"2482.5\" y=\"-22.8\" font-family=\"Helvetica,sans-Serif\" font-size=\"14.00\" fill=\"#000000\">samples = 47</text>\n<text text-anchor=\"start\" x=\"2476.5\" y=\"-7.8\" font-family=\"Helvetica,sans-Serif\" font-size=\"14.00\" fill=\"#000000\">value = [29, 18]</text>\n</g>\n<!-- 46&#45;&gt;47 -->\n<g id=\"edge47\" class=\"edge\">\n<title>46&#45;&gt;47</title>\n<path fill=\"none\" stroke=\"#000000\" d=\"M2613.2566,-88.9777C2599.7783,-79.2713 2585.1285,-68.7213 2571.7709,-59.1018\"/>\n<polygon fill=\"#000000\" stroke=\"#000000\" points=\"2573.8031,-56.2522 2563.643,-53.2485 2569.7124,-61.9325 2573.8031,-56.2522\"/>\n</g>\n<!-- 48 -->\n<g id=\"node49\" class=\"node\">\n<title>48</title>\n<path fill=\"#e0f0fb\" stroke=\"#000000\" d=\"M2706.5,-53C2706.5,-53 2614.5,-53 2614.5,-53 2608.5,-53 2602.5,-47 2602.5,-41 2602.5,-41 2602.5,-12 2602.5,-12 2602.5,-6 2608.5,0 2614.5,0 2614.5,0 2706.5,0 2706.5,0 2712.5,0 2718.5,-6 2718.5,-12 2718.5,-12 2718.5,-41 2718.5,-41 2718.5,-47 2712.5,-53 2706.5,-53\"/>\n<text text-anchor=\"start\" x=\"2622.5\" y=\"-37.8\" font-family=\"Helvetica,sans-Serif\" font-size=\"14.00\" fill=\"#000000\">gini = 0.496</text>\n<text text-anchor=\"start\" x=\"2616.5\" y=\"-22.8\" font-family=\"Helvetica,sans-Serif\" font-size=\"14.00\" fill=\"#000000\">samples = 35</text>\n<text text-anchor=\"start\" x=\"2610.5\" y=\"-7.8\" font-family=\"Helvetica,sans-Serif\" font-size=\"14.00\" fill=\"#000000\">value = [16, 19]</text>\n</g>\n<!-- 46&#45;&gt;48 -->\n<g id=\"edge48\" class=\"edge\">\n<title>46&#45;&gt;48</title>\n<path fill=\"none\" stroke=\"#000000\" d=\"M2660.5,-88.9777C2660.5,-80.7364 2660.5,-71.887 2660.5,-63.5153\"/>\n<polygon fill=\"#000000\" stroke=\"#000000\" points=\"2664.0001,-63.2484 2660.5,-53.2485 2657.0001,-63.2485 2664.0001,-63.2484\"/>\n</g>\n<!-- 50 -->\n<g id=\"node51\" class=\"node\">\n<title>50</title>\n<path fill=\"#8cc6f0\" stroke=\"#000000\" d=\"M2840.5,-53C2840.5,-53 2748.5,-53 2748.5,-53 2742.5,-53 2736.5,-47 2736.5,-41 2736.5,-41 2736.5,-12 2736.5,-12 2736.5,-6 2742.5,0 2748.5,0 2748.5,0 2840.5,0 2840.5,0 2846.5,0 2852.5,-6 2852.5,-12 2852.5,-12 2852.5,-41 2852.5,-41 2852.5,-47 2846.5,-53 2840.5,-53\"/>\n<text text-anchor=\"start\" x=\"2756.5\" y=\"-37.8\" font-family=\"Helvetica,sans-Serif\" font-size=\"14.00\" fill=\"#000000\">gini = 0.416</text>\n<text text-anchor=\"start\" x=\"2750.5\" y=\"-22.8\" font-family=\"Helvetica,sans-Serif\" font-size=\"14.00\" fill=\"#000000\">samples = 61</text>\n<text text-anchor=\"start\" x=\"2744.5\" y=\"-7.8\" font-family=\"Helvetica,sans-Serif\" font-size=\"14.00\" fill=\"#000000\">value = [18, 43]</text>\n</g>\n<!-- 49&#45;&gt;50 -->\n<g id=\"edge50\" class=\"edge\">\n<title>49&#45;&gt;50</title>\n<path fill=\"none\" stroke=\"#000000\" d=\"M2794.5,-88.9777C2794.5,-80.7364 2794.5,-71.887 2794.5,-63.5153\"/>\n<polygon fill=\"#000000\" stroke=\"#000000\" points=\"2798.0001,-63.2484 2794.5,-53.2485 2791.0001,-63.2485 2798.0001,-63.2484\"/>\n</g>\n<!-- 51 -->\n<g id=\"node52\" class=\"node\">\n<title>51</title>\n<path fill=\"#e58139\" stroke=\"#000000\" d=\"M2958,-53C2958,-53 2883,-53 2883,-53 2877,-53 2871,-47 2871,-41 2871,-41 2871,-12 2871,-12 2871,-6 2877,0 2883,0 2883,0 2958,0 2958,0 2964,0 2970,-6 2970,-12 2970,-12 2970,-41 2970,-41 2970,-47 2964,-53 2958,-53\"/>\n<text text-anchor=\"start\" x=\"2891\" y=\"-37.8\" font-family=\"Helvetica,sans-Serif\" font-size=\"14.00\" fill=\"#000000\">gini = 0.0</text>\n<text text-anchor=\"start\" x=\"2881\" y=\"-22.8\" font-family=\"Helvetica,sans-Serif\" font-size=\"14.00\" fill=\"#000000\">samples = 3</text>\n<text text-anchor=\"start\" x=\"2879\" y=\"-7.8\" font-family=\"Helvetica,sans-Serif\" font-size=\"14.00\" fill=\"#000000\">value = [3, 0]</text>\n</g>\n<!-- 49&#45;&gt;51 -->\n<g id=\"edge51\" class=\"edge\">\n<title>49&#45;&gt;51</title>\n<path fill=\"none\" stroke=\"#000000\" d=\"M2838.9229,-88.9777C2851.477,-79.3629 2865.1119,-68.9203 2877.576,-59.3743\"/>\n<polygon fill=\"#000000\" stroke=\"#000000\" points=\"2879.7635,-62.1076 2885.5745,-53.2485 2875.5073,-56.5502 2879.7635,-62.1076\"/>\n</g>\n<!-- 53 -->\n<g id=\"node54\" class=\"node\">\n<title>53</title>\n<path fill=\"#e99457\" stroke=\"#000000\" d=\"M3083,-157C3083,-157 3000,-157 3000,-157 2994,-157 2988,-151 2988,-145 2988,-145 2988,-101 2988,-101 2988,-95 2994,-89 3000,-89 3000,-89 3083,-89 3083,-89 3089,-89 3095,-95 3095,-101 3095,-101 3095,-145 3095,-145 3095,-151 3089,-157 3083,-157\"/>\n<text text-anchor=\"start\" x=\"3010.5\" y=\"-141.8\" font-family=\"Helvetica,sans-Serif\" font-size=\"14.00\" fill=\"#000000\">Age ≤ 2.5</text>\n<text text-anchor=\"start\" x=\"3003.5\" y=\"-126.8\" font-family=\"Helvetica,sans-Serif\" font-size=\"14.00\" fill=\"#000000\">gini = 0.227</text>\n<text text-anchor=\"start\" x=\"2997.5\" y=\"-111.8\" font-family=\"Helvetica,sans-Serif\" font-size=\"14.00\" fill=\"#000000\">samples = 23</text>\n<text text-anchor=\"start\" x=\"2996\" y=\"-96.8\" font-family=\"Helvetica,sans-Serif\" font-size=\"14.00\" fill=\"#000000\">value = [20, 3]</text>\n</g>\n<!-- 52&#45;&gt;53 -->\n<g id=\"edge53\" class=\"edge\">\n<title>52&#45;&gt;53</title>\n<path fill=\"none\" stroke=\"#000000\" d=\"M3041.5,-192.9465C3041.5,-184.776 3041.5,-175.9318 3041.5,-167.3697\"/>\n<polygon fill=\"#000000\" stroke=\"#000000\" points=\"3045.0001,-167.13 3041.5,-157.13 3038.0001,-167.13 3045.0001,-167.13\"/>\n</g>\n<!-- 56 -->\n<g id=\"node57\" class=\"node\">\n<title>56</title>\n<path fill=\"#e58139\" stroke=\"#000000\" d=\"M3200,-149.5C3200,-149.5 3125,-149.5 3125,-149.5 3119,-149.5 3113,-143.5 3113,-137.5 3113,-137.5 3113,-108.5 3113,-108.5 3113,-102.5 3119,-96.5 3125,-96.5 3125,-96.5 3200,-96.5 3200,-96.5 3206,-96.5 3212,-102.5 3212,-108.5 3212,-108.5 3212,-137.5 3212,-137.5 3212,-143.5 3206,-149.5 3200,-149.5\"/>\n<text text-anchor=\"start\" x=\"3133\" y=\"-134.3\" font-family=\"Helvetica,sans-Serif\" font-size=\"14.00\" fill=\"#000000\">gini = 0.0</text>\n<text text-anchor=\"start\" x=\"3123\" y=\"-119.3\" font-family=\"Helvetica,sans-Serif\" font-size=\"14.00\" fill=\"#000000\">samples = 3</text>\n<text text-anchor=\"start\" x=\"3121\" y=\"-104.3\" font-family=\"Helvetica,sans-Serif\" font-size=\"14.00\" fill=\"#000000\">value = [3, 0]</text>\n</g>\n<!-- 52&#45;&gt;56 -->\n<g id=\"edge56\" class=\"edge\">\n<title>52&#45;&gt;56</title>\n<path fill=\"none\" stroke=\"#000000\" d=\"M3081.1199,-192.9465C3094.8324,-181.1606 3110.1761,-167.9726 3123.8127,-156.2519\"/>\n<polygon fill=\"#000000\" stroke=\"#000000\" points=\"3126.3169,-158.7147 3131.6192,-149.5422 3121.7541,-153.4061 3126.3169,-158.7147\"/>\n</g>\n<!-- 54 -->\n<g id=\"node55\" class=\"node\">\n<title>54</title>\n<path fill=\"#e88e4e\" stroke=\"#000000\" d=\"M3083,-53C3083,-53 3000,-53 3000,-53 2994,-53 2988,-47 2988,-41 2988,-41 2988,-12 2988,-12 2988,-6 2994,0 3000,0 3000,0 3083,0 3083,0 3089,0 3095,-6 3095,-12 3095,-12 3095,-41 3095,-41 3095,-47 3089,-53 3083,-53\"/>\n<text text-anchor=\"start\" x=\"3003.5\" y=\"-37.8\" font-family=\"Helvetica,sans-Serif\" font-size=\"14.00\" fill=\"#000000\">gini = 0.172</text>\n<text text-anchor=\"start\" x=\"2997.5\" y=\"-22.8\" font-family=\"Helvetica,sans-Serif\" font-size=\"14.00\" fill=\"#000000\">samples = 21</text>\n<text text-anchor=\"start\" x=\"2996\" y=\"-7.8\" font-family=\"Helvetica,sans-Serif\" font-size=\"14.00\" fill=\"#000000\">value = [19, 2]</text>\n</g>\n<!-- 53&#45;&gt;54 -->\n<g id=\"edge54\" class=\"edge\">\n<title>53&#45;&gt;54</title>\n<path fill=\"none\" stroke=\"#000000\" d=\"M3041.5,-88.9777C3041.5,-80.7364 3041.5,-71.887 3041.5,-63.5153\"/>\n<polygon fill=\"#000000\" stroke=\"#000000\" points=\"3045.0001,-63.2484 3041.5,-53.2485 3038.0001,-63.2485 3045.0001,-63.2484\"/>\n</g>\n<!-- 55 -->\n<g id=\"node56\" class=\"node\">\n<title>55</title>\n<path fill=\"#ffffff\" stroke=\"#000000\" d=\"M3200,-53C3200,-53 3125,-53 3125,-53 3119,-53 3113,-47 3113,-41 3113,-41 3113,-12 3113,-12 3113,-6 3119,0 3125,0 3125,0 3200,0 3200,0 3206,0 3212,-6 3212,-12 3212,-12 3212,-41 3212,-41 3212,-47 3206,-53 3200,-53\"/>\n<text text-anchor=\"start\" x=\"3133\" y=\"-37.8\" font-family=\"Helvetica,sans-Serif\" font-size=\"14.00\" fill=\"#000000\">gini = 0.5</text>\n<text text-anchor=\"start\" x=\"3123\" y=\"-22.8\" font-family=\"Helvetica,sans-Serif\" font-size=\"14.00\" fill=\"#000000\">samples = 2</text>\n<text text-anchor=\"start\" x=\"3121\" y=\"-7.8\" font-family=\"Helvetica,sans-Serif\" font-size=\"14.00\" fill=\"#000000\">value = [1, 1]</text>\n</g>\n<!-- 53&#45;&gt;55 -->\n<g id=\"edge55\" class=\"edge\">\n<title>53&#45;&gt;55</title>\n<path fill=\"none\" stroke=\"#000000\" d=\"M3084.1601,-88.9777C3096.1011,-79.4545 3109.0605,-69.1191 3120.937,-59.6473\"/>\n<polygon fill=\"#000000\" stroke=\"#000000\" points=\"3123.3246,-62.22 3128.9605,-53.2485 3118.96,-56.7473 3123.3246,-62.22\"/>\n</g>\n</g>\n</svg>\n"
          },
          "metadata": {
            "tags": []
          },
          "execution_count": 37
        }
      ]
    },
    {
      "cell_type": "code",
      "metadata": {
        "id": "bwSfMN6t8asQ",
        "colab": {
          "base_uri": "https://localhost:8080/"
        },
        "outputId": "8d016360-0294-4f4f-ed65-aca4f767d025"
      },
      "source": [
        "acc_decision_tree_after_5FoldValidation = round(np.mean(cross_val_score(decision_tree, X_train, Y_train,cv=5)) * 100, 2)\n",
        "acc_decision_tree_after_5FoldValidation"
      ],
      "execution_count": null,
      "outputs": [
        {
          "output_type": "execute_result",
          "data": {
            "text/plain": [
              "79.24"
            ]
          },
          "metadata": {
            "tags": []
          },
          "execution_count": 38
        }
      ]
    },
    {
      "cell_type": "code",
      "metadata": {
        "id": "xe_1wIQ48asQ",
        "colab": {
          "base_uri": "https://localhost:8080/"
        },
        "outputId": "05a980ff-bca3-45a9-c804-f08196e8eb27"
      },
      "source": [
        "np.random.seed(42)\n",
        "random_forest = RandomForestClassifier(n_estimators=100)\n",
        "random_forest.fit(X_train, Y_train)\n",
        "Y_pred = random_forest.predict(X_test)\n",
        "random_forest.score(X_train, Y_train)\n",
        "acc_random_forest = round(random_forest.score(X_train, Y_train) * 100, 2)\n",
        "acc_random_forest"
      ],
      "execution_count": null,
      "outputs": [
        {
          "output_type": "execute_result",
          "data": {
            "text/plain": [
              "88.44"
            ]
          },
          "metadata": {
            "tags": []
          },
          "execution_count": 39
        }
      ]
    },
    {
      "cell_type": "code",
      "metadata": {
        "id": "H8Cfky628asR",
        "colab": {
          "base_uri": "https://localhost:8080/"
        },
        "outputId": "71933f63-c445-4f14-8904-ede9a6fbd5ab"
      },
      "source": [
        "acc_random_forest_after_5FoldValidation = np.mean(cross_val_score(random_forest, X_train, Y_train, cv=5))\n",
        "acc_random_forest_after_5FoldValidation = round(acc_random_forest_after_5FoldValidation * 100, 2)\n",
        "acc_random_forest_after_5FoldValidation"
      ],
      "execution_count": null,
      "outputs": [
        {
          "output_type": "execute_result",
          "data": {
            "text/plain": [
              "81.26"
            ]
          },
          "metadata": {
            "tags": []
          },
          "execution_count": 40
        }
      ]
    },
    {
      "cell_type": "code",
      "metadata": {
        "id": "9fXCq1BZ8asS",
        "colab": {
          "base_uri": "https://localhost:8080/",
          "height": 106
        },
        "outputId": "beab1939-c7b2-4614-d247-668af8c68e4f"
      },
      "source": [
        "models = pd.DataFrame({\n",
        "    'Model': ['Random Forest',\n",
        "              'Decision Tree'],\n",
        "    'Score': [\n",
        "              acc_random_forest, acc_decision_tree]})\n",
        "models.sort_values(by='Score', ascending=False)"
      ],
      "execution_count": null,
      "outputs": [
        {
          "output_type": "execute_result",
          "data": {
            "text/html": [
              "<div>\n",
              "<style scoped>\n",
              "    .dataframe tbody tr th:only-of-type {\n",
              "        vertical-align: middle;\n",
              "    }\n",
              "\n",
              "    .dataframe tbody tr th {\n",
              "        vertical-align: top;\n",
              "    }\n",
              "\n",
              "    .dataframe thead th {\n",
              "        text-align: right;\n",
              "    }\n",
              "</style>\n",
              "<table border=\"1\" class=\"dataframe\">\n",
              "  <thead>\n",
              "    <tr style=\"text-align: right;\">\n",
              "      <th></th>\n",
              "      <th>Model</th>\n",
              "      <th>Score</th>\n",
              "    </tr>\n",
              "  </thead>\n",
              "  <tbody>\n",
              "    <tr>\n",
              "      <th>0</th>\n",
              "      <td>Random Forest</td>\n",
              "      <td>88.44</td>\n",
              "    </tr>\n",
              "    <tr>\n",
              "      <th>1</th>\n",
              "      <td>Decision Tree</td>\n",
              "      <td>83.61</td>\n",
              "    </tr>\n",
              "  </tbody>\n",
              "</table>\n",
              "</div>"
            ],
            "text/plain": [
              "           Model  Score\n",
              "0  Random Forest  88.44\n",
              "1  Decision Tree  83.61"
            ]
          },
          "metadata": {
            "tags": []
          },
          "execution_count": 41
        }
      ]
    }
  ]
}