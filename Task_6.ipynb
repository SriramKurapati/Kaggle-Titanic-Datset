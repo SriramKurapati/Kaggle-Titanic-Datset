{
  "nbformat": 4,
  "nbformat_minor": 0,
  "metadata": {
    "colab": {
      "provenance": [],
      "authorship_tag": "ABX9TyOCJE9ZdO8ix3WFm+Oqe5+6",
      "include_colab_link": true
    },
    "kernelspec": {
      "name": "python3",
      "display_name": "Python 3"
    },
    "language_info": {
      "name": "python"
    }
  },
  "cells": [
    {
      "cell_type": "markdown",
      "metadata": {
        "id": "view-in-github",
        "colab_type": "text"
      },
      "source": [
        "<a href=\"https://colab.research.google.com/github/SriramKurapati/Kaggle-Titanic-Datset/blob/main/Task_6.ipynb\" target=\"_parent\"><img src=\"https://colab.research.google.com/assets/colab-badge.svg\" alt=\"Open In Colab\"/></a>"
      ]
    },
    {
      "cell_type": "code",
      "execution_count": 1,
      "metadata": {
        "id": "nMYqISzkAyQN"
      },
      "outputs": [],
      "source": [
        "# Load libraries\n",
        "import matplotlib.pyplot as plt\n",
        "import numpy as np\n",
        "import pandas as pd"
      ]
    },
    {
      "cell_type": "code",
      "source": [
        "# given data\n",
        "x1 = np.array([-1, -1])\n",
        "x2 = np.array([-1, +1])\n",
        "x3 = np.array([+1, -1])\n",
        "x4 = np.array([+1, +1])\n",
        "\n",
        "X = np.array([x1, x2, x3, x4])\n",
        "Y = np.array([-1, 1, 1, -1])  \n",
        "\n",
        "plt.rcParams[\"figure.figsize\"] = [7.00, 4.00]\n",
        "plt.grid()\n",
        "\n",
        "for k, x in enumerate(X):\n",
        "    if Y[k] > 0:\n",
        "        plt.plot(x[0], x[1], \"bo\", label='Positive')\n",
        "    else:\n",
        "        plt.plot(x[0], x[1], \"ro\", label='Negative')\n",
        "\n",
        "handles, labels = plt.gca().get_legend_handles_labels() \n",
        "by_label = dict(zip(labels, handles))\n",
        "plt.legend(by_label.values(), by_label.keys())\n",
        "plt.show()"
      ],
      "metadata": {
        "colab": {
          "base_uri": "https://localhost:8080/",
          "height": 297
        },
        "id": "XDJmiINsA3-Q",
        "outputId": "1c214d20-d890-4e8b-cfc5-f1273550040a"
      },
      "execution_count": 20,
      "outputs": [
        {
          "output_type": "display_data",
          "data": {
            "text/plain": [
              "<Figure size 504x288 with 1 Axes>"
            ],
            "image/png": "[encoded data removed]"
          },
          "metadata": {
            "needs_background": "light"
          }
        }
      ]
    },
    {
      "cell_type": "code",
      "source": [
        "for k, x in enumerate(X):\n",
        "    print(f'{x} <--> {[x[0], x[0] * x[1]]}')\n",
        "    X[k] = [x[0], x[0] * x[1]]\n",
        "  "
      ],
      "metadata": {
        "colab": {
          "base_uri": "https://localhost:8080/"
        },
        "id": "pZOk2wpfDG2P",
        "outputId": "27829a01-b173-45a8-d37d-b20e67477068"
      },
      "execution_count": 24,
      "outputs": [
        {
          "output_type": "stream",
          "name": "stdout",
          "text": [
            "[-1  1] <--> [-1, -1]\n",
            "[-1 -1] <--> [-1, 1]\n",
            "[ 1 -1] <--> [1, -1]\n",
            "[1 1] <--> [1, 1]\n"
          ]
        }
      ]
    },
    {
      "cell_type": "code",
      "source": [
        "plt.rcParams[\"figure.figsize\"] = [7.00, 4.00]\n",
        "plt.grid()\n",
        "\n",
        "for k, x in enumerate(X):\n",
        "    if Y[k] > 0:\n",
        "        plt.plot(x[0], x[1], \"bo\", label='Positive')\n",
        "    else:\n",
        "        plt.plot(x[0], x[1], \"ro\", label='Negative')\n",
        "plt.axhline(y=0, color='g', linestyle='--', label='maximal margin separator')\n",
        "handles, labels = plt.gca().get_legend_handles_labels() \n",
        "by_label = dict(zip(labels, handles))\n",
        "plt.legend(by_label.values(), by_label.keys())\n",
        "plt.show()"
      ],
      "metadata": {
        "colab": {
          "base_uri": "https://localhost:8080/",
          "height": 297
        },
        "id": "AR0Lfi7NDs1n",
        "outputId": "09d4a63b-fe78-4051-b482-a638a2d8c6da"
      },
      "execution_count": 32,
      "outputs": [
        {
          "output_type": "display_data",
          "data": {
            "text/plain": [
              "<Figure size 504x288 with 1 Axes>"
            ],
            "image/png": "[encoded data removed]"
          },
          "metadata": {
            "needs_background": "light"
          }
        }
      ]
    },
    {
      "cell_type": "code",
      "source": [
        "mid = (x+x2)/2 \n",
        "m = abs(np.cross(x2-x1,mid-x1)/np.linalg.norm(x2-x1))\n",
        "print(f'Margin = {m}')"
      ],
      "metadata": {
        "colab": {
          "base_uri": "https://localhost:8080/"
        },
        "id": "XRWEBjRdEkNP",
        "outputId": "68004fb4-36c2-487e-f639-e13eabd07e36"
      },
      "execution_count": 35,
      "outputs": [
        {
          "output_type": "stream",
          "name": "stdout",
          "text": [
            "Margin = 1.0\n"
          ]
        }
      ]
    }
  ]
}